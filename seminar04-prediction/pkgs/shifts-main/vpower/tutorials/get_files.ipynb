{
 "cells": [
  {
   "cell_type": "markdown",
   "metadata": {},
   "source": [
    "# Download Data and Baseline models\n",
    "\n",
    "This notebook downloads and unzips the datasets and the trained baseline models that are required.\n",
    "\n",
    "By unzipping, two folders are created in total in the current directory :\n",
    "* `datasets`\n",
    "* `baselines`"
   ]
  },
  {
   "cell_type": "markdown",
   "metadata": {},
   "source": [
    "# Data download"
   ]
  },
  {
   "cell_type": "markdown",
   "metadata": {},
   "source": [
    "The data are released under [CC BY-NC-SA 4.0](https://creativecommons.org/licenses/by-nc-sa/4.0/legalcode) license.\n",
    "By downloading the data, you are accepting and agreeing to the terms of the above [CC BY-NC-SA 4.0](https://creativecommons.org/licenses/by-nc-sa/4.0/legalcode) license.\n",
    "\n",
    "[Download the data from Zenodo](https://doi.org/10.5281/zenodo.7057666)."
   ]
  },
  {
   "cell_type": "markdown",
   "metadata": {},
   "source": [
    "# Baseline models download"
   ]
  },
  {
   "cell_type": "markdown",
   "metadata": {},
   "source": [
    "The baseline models are stored at: [baselines](https://deepsea-tmp.s3.eu-central-1.amazonaws.com/baselines.zip). \\\n",
    "Password to extract the zip file : mU8G2zt9"
   ]
  },
  {
   "cell_type": "code",
   "execution_count": 1,
   "metadata": {},
   "outputs": [
    {
     "name": "stdout",
     "output_type": "stream",
     "text": [
      "--2022-07-15 14:06:06--  https://deepsea-tmp.s3.eu-central-1.amazonaws.com/baselines.zip\r\n",
      "Resolving deepsea-tmp.s3.eu-central-1.amazonaws.com (deepsea-tmp.s3.eu-central-1.amazonaws.com)... 52.219.171.162\r\n",
      "Connecting to deepsea-tmp.s3.eu-central-1.amazonaws.com (deepsea-tmp.s3.eu-central-1.amazonaws.com)|52.219.171.162|:443... connected.\r\n",
      "HTTP request sent, awaiting response... 200 OK\r\n",
      "Length: 84753 (83K) [application/zip]\r\n",
      "Saving to: ‘baselines.zip’\r\n",
      "\r\n",
      "baselines.zip       100%[===================>]  82.77K   537KB/s    in 0.2s    \r\n",
      "\r\n",
      "2022-07-15 14:06:07 (537 KB/s) - ‘baselines.zip’ saved [84753/84753]\r\n",
      "\r\n"
     ]
    }
   ],
   "source": [
    "! wget  https://deepsea-tmp.s3.eu-central-1.amazonaws.com/baselines.zip"
   ]
  },
  {
   "cell_type": "code",
   "execution_count": 2,
   "metadata": {},
   "outputs": [
    {
     "name": "stdout",
     "output_type": "stream",
     "text": [
      "Archive:  baselines.zip\r\n",
      "   creating: baselines/member_1/\r\n",
      "  inflating: baselines/member_1/best_model.pth  \r\n",
      "  inflating: baselines/member_1/history.json  \r\n",
      "   creating: baselines/member_10/\r\n",
      "  inflating: baselines/member_10/best_model.pth  \r\n",
      "  inflating: baselines/member_10/history.json  \r\n",
      "   creating: baselines/member_2/\r\n",
      "  inflating: baselines/member_2/best_model.pth  \r\n",
      "  inflating: baselines/member_2/history.json  \r\n",
      "   creating: baselines/member_3/\r\n",
      "  inflating: baselines/member_3/best_model.pth  \r\n",
      "  inflating: baselines/member_3/history.json  \r\n",
      "   creating: baselines/member_4/\r\n",
      "  inflating: baselines/member_4/best_model.pth  \r\n",
      "  inflating: baselines/member_4/history.json  \r\n",
      "   creating: baselines/member_5/\r\n",
      "  inflating: baselines/member_5/best_model.pth  \r\n",
      "  inflating: baselines/member_5/history.json  \r\n",
      "   creating: baselines/member_6/\r\n",
      "  inflating: baselines/member_6/best_model.pth  \r\n",
      "  inflating: baselines/member_6/history.json  \r\n",
      "   creating: baselines/member_7/\r\n",
      "  inflating: baselines/member_7/best_model.pth  \r\n",
      "  inflating: baselines/member_7/history.json  \r\n",
      "   creating: baselines/member_8/\r\n",
      "  inflating: baselines/member_8/best_model.pth  \r\n",
      "  inflating: baselines/member_8/history.json  \r\n",
      "   creating: baselines/member_9/\r\n",
      "  inflating: baselines/member_9/best_model.pth  \r\n",
      "  inflating: baselines/member_9/history.json  \r\n",
      "   creating: baselines/stats/\r\n",
      "  inflating: baselines/stats/means.json  \r\n",
      "  inflating: baselines/stats/stds.json  \r\n"
     ]
    }
   ],
   "source": [
    "# Unzip file\n",
    "!unzip -P mU8G2zt9 baselines.zip"
   ]
  }
 ],
 "metadata": {
  "kernelspec": {
   "name": "ai_research",
   "language": "python",
   "display_name": "ai_research"
  },
  "language_info": {
   "codemirror_mode": {
    "name": "ipython",
    "version": 3
   },
   "file_extension": ".py",
   "mimetype": "text/x-python",
   "name": "python",
   "nbconvert_exporter": "python",
   "pygments_lexer": "ipython3",
   "version": "3.6.11"
  }
 },
 "nbformat": 4,
 "nbformat_minor": 4
}
