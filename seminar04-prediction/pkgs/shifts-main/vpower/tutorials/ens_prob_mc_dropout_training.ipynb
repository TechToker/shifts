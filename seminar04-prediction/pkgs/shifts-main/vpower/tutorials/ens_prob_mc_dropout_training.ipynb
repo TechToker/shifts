{
 "cells": [
  {
   "cell_type": "markdown",
   "metadata": {
    "pycharm": {
     "name": "#%% md\n"
    }
   },
   "source": [
    "# Training an Ensemble of probabilistic MC dropouts\n",
    "\n",
    "This tutorial shows the data preprocessing and model training process for the case of an ensemble of probabilistic MC dropouts.\n",
    "\n",
    "Important note: The models are trained using `train` data and the hyperparameters should be fine-tuned using `dev_in`."
   ]
  },
  {
   "cell_type": "code",
   "execution_count": 1,
   "outputs": [
    {
     "name": "stdout",
     "output_type": "stream",
     "text": [
      "Torch Version 1.12.0+cu102\n"
     ]
    }
   ],
   "source": [
    "import json\n",
    "import pandas as pd\n",
    "import torch\n",
    "print(\"Torch Version\", torch.__version__)"
   ],
   "metadata": {
    "collapsed": false,
    "pycharm": {
     "name": "#%%\n"
    }
   }
  },
  {
   "cell_type": "code",
   "execution_count": 2,
   "outputs": [],
   "source": [
    "from vpower.src.utils.auxiliary_functions import load_data_and_set_index, data_normalization\n",
    "from vpower.src.utils.plot_utils import plot_learning_curve\n",
    "from vpower.src.models.mc_dropout import *"
   ],
   "metadata": {
    "collapsed": false,
    "pycharm": {
     "name": "#%%\n"
    }
   }
  },
  {
   "cell_type": "markdown",
   "source": [
    "# Directories to be used"
   ],
   "metadata": {
    "collapsed": false,
    "pycharm": {
     "name": "#%% md\n"
    }
   }
  },
  {
   "cell_type": "markdown",
   "source": [
    "This tutorial assumes that\n",
    "* all data files are placed in a local directory named `datasets`.\n",
    "* the trained models, their histories (learning evolution) and train statistics for data scaling are to be stored in a local directory named `baselines`."
   ],
   "metadata": {
    "collapsed": false,
    "pycharm": {
     "name": "#%% md\n"
    }
   }
  },
  {
   "cell_type": "code",
   "execution_count": 3,
   "outputs": [],
   "source": [
    "data_dir = \"datasets\"\n",
    "model_dir = \"baselines\""
   ],
   "metadata": {
    "collapsed": false,
    "pycharm": {
     "name": "#%%\n"
    }
   }
  },
  {
   "cell_type": "markdown",
   "source": [
    "# Load data"
   ],
   "metadata": {
    "collapsed": false,
    "pycharm": {
     "name": "#%% md\n"
    }
   }
  },
  {
   "cell_type": "code",
   "execution_count": 4,
   "outputs": [
    {
     "name": "stdout",
     "output_type": "stream",
     "text": [
      "Train records:  523190\n",
      "Dev in records:  18108\n"
     ]
    }
   ],
   "source": [
    "train_data = load_data_and_set_index(filepath=os.path.join(data_dir, \"train.csv\"), index_column_name=\"time_id\")\n",
    "dev_in_data = load_data_and_set_index(filepath=os.path.join(data_dir, \"dev_in.csv\"), index_column_name=\"time_id\")\n",
    "\n",
    "print(\"Train records: \", train_data.shape[0])\n",
    "print(\"Dev in records: \", dev_in_data.shape[0])"
   ],
   "metadata": {
    "collapsed": false,
    "pycharm": {
     "name": "#%%\n"
    }
   }
  },
  {
   "cell_type": "markdown",
   "source": [
    "# Data scaling"
   ],
   "metadata": {
    "collapsed": false,
    "pycharm": {
     "name": "#%% md\n"
    }
   }
  },
  {
   "cell_type": "code",
   "execution_count": 5,
   "outputs": [],
   "source": [
    "input_features = [\"draft_aft_telegram\",\n",
    "                  \"draft_fore_telegram\",\n",
    "\n",
    "                  \"stw\",\n",
    "                  \"diff_speed_overground\",\n",
    "\n",
    "                  \"awind_vcomp_provider\",\n",
    "                  \"awind_ucomp_provider\",\n",
    "                  \"rcurrent_vcomp\",\n",
    "                  \"rcurrent_ucomp\",\n",
    "                  \"comb_wind_swell_wave_height\",\n",
    "\n",
    "                  \"timeSinceDryDock\",\n",
    "                  ]\n",
    "\n",
    "target = \"power\""
   ],
   "metadata": {
    "collapsed": false,
    "pycharm": {
     "name": "#%%\n"
    }
   }
  },
  {
   "cell_type": "markdown",
   "source": [
    "The data scaling is performed based on the statistics of the train set. These statistics are saved in the file `stats` in order to be used during inference."
   ],
   "metadata": {
    "collapsed": false,
    "pycharm": {
     "name": "#%% md\n"
    }
   }
  },
  {
   "cell_type": "code",
   "execution_count": 6,
   "outputs": [],
   "source": [
    "means = train_data.mean()\n",
    "stds = train_data.std()\n",
    "\n",
    "store_path = os.path.join(model_dir, 'stats')\n",
    "if not os.path.exists(store_path):\n",
    "        os.makedirs(store_path)\n",
    "\n",
    "with open(os.path.join(store_path, 'means.json'), 'w') as f:\n",
    "    json.dump(means.to_dict(), f, indent=4)\n",
    "\n",
    "with open(os.path.join(store_path, 'stds.json'), 'w') as f:\n",
    "    json.dump(stds.to_dict(), f, indent=4)"
   ],
   "metadata": {
    "collapsed": false,
    "pycharm": {
     "name": "#%%\n"
    }
   }
  },
  {
   "cell_type": "markdown",
   "source": [
    "Data scaling description:\n",
    "* For the time feature `timeSinceDryDock` we perform a `zeromax` scaling using a global timesince maximum = 4324320 minutes. This global maximum corresponds to a time duration of about 8 years between two dry docking cleaning events.\n",
    "* The rest input features and the target are `standardized` (Z-scaling).\n",
    "\n",
    "This is the recommended scaling process for the available features. Though depending on the method a different approach may be required."
   ],
   "metadata": {
    "collapsed": false,
    "pycharm": {
     "name": "#%% md\n"
    }
   }
  },
  {
   "cell_type": "code",
   "execution_count": 7,
   "outputs": [],
   "source": [
    "train_norm = data_normalization(data=train_data, means=means, stds=stds)\n",
    "dev_in_norm = data_normalization(data=dev_in_data, means=means, stds=stds)"
   ],
   "metadata": {
    "collapsed": false,
    "pycharm": {
     "name": "#%%\n"
    }
   }
  },
  {
   "cell_type": "code",
   "execution_count": 8,
   "outputs": [],
   "source": [
    "train_ds = VPowerDataset(data=train_norm,\n",
    "                         input_features=input_features,\n",
    "                         target=target)\n",
    "val_ds = VPowerDataset(data=dev_in_norm,\n",
    "                       input_features=input_features,\n",
    "                       target=target)"
   ],
   "metadata": {
    "collapsed": false,
    "pycharm": {
     "name": "#%%\n"
    }
   }
  },
  {
   "cell_type": "code",
   "execution_count": 9,
   "outputs": [
    {
     "data": {
      "text/plain": "       awind_ucomp_provider  awind_vcomp_provider  \\\ncount          5.231900e+05          5.231900e+05   \nmean          -1.508031e-16         -2.503244e-16   \nstd            1.000000e+00          1.000000e+00   \nmin           -1.609081e+00         -3.310021e+00   \n25%           -8.116068e-01         -7.564000e-01   \n50%           -2.453545e-01         -1.782838e-02   \n75%            6.358525e-01          7.451101e-01   \nmax            3.124058e+00          2.792529e+00   \n\n       comb_wind_swell_wave_height  diff_speed_overground  draft_aft_telegram  \\\ncount                 5.231900e+05           5.231900e+05        5.231900e+05   \nmean                  1.373308e-16          -2.585817e-17        1.964351e-15   \nstd                   1.000000e+00           1.000000e+00        1.000000e+00   \nmin                  -2.232109e+00          -8.232534e+00       -3.446784e+00   \n25%                  -6.934100e-01          -6.196748e-01       -7.911742e-01   \n50%                  -1.144700e-01          -1.413945e-03        2.027145e-01   \n75%                   5.606564e-01           6.174625e-01        7.546046e-01   \nmax                   4.615205e+00           8.767026e+00        1.991983e+00   \n\n       draft_fore_telegram         power  rcurrent_ucomp  rcurrent_vcomp  \\\ncount         5.231900e+05  5.231900e+05    5.231900e+05    5.231900e+05   \nmean          1.043018e-17  1.894817e-16   -6.518865e-18   -4.345910e-18   \nstd           1.000000e+00  1.000000e+00    1.000000e+00    1.000000e+00   \nmin          -3.433145e+00 -2.426341e+00   -5.882673e+00   -4.390627e+00   \n25%          -7.115869e-01 -8.845777e-01   -4.522424e-01   -4.175400e-01   \n50%           1.915621e-01  1.926598e-01   -1.786759e-02    1.458298e-02   \n75%           7.928354e-01  7.263591e-01    4.341876e-01    4.191766e-01   \nmax           2.053773e+00  2.944730e+00    5.925018e+00    4.435618e+00   \n\n                stw  timeSinceDryDock  \ncount  5.231900e+05     523190.000000  \nmean   1.324633e-15          0.226110  \nstd    1.000000e+00          0.105390  \nmin   -4.405004e+00          0.002492  \n25%   -7.257049e-01          0.154468  \n50%    3.610918e-01          0.239873  \n75%    6.765600e-01          0.314985  \nmax    2.322942e+00          0.401345  ",
      "text/html": "<div>\n<style scoped>\n    .dataframe tbody tr th:only-of-type {\n        vertical-align: middle;\n    }\n\n    .dataframe tbody tr th {\n        vertical-align: top;\n    }\n\n    .dataframe thead th {\n        text-align: right;\n    }\n</style>\n<table border=\"1\" class=\"dataframe\">\n  <thead>\n    <tr style=\"text-align: right;\">\n      <th></th>\n      <th>awind_ucomp_provider</th>\n      <th>awind_vcomp_provider</th>\n      <th>comb_wind_swell_wave_height</th>\n      <th>diff_speed_overground</th>\n      <th>draft_aft_telegram</th>\n      <th>draft_fore_telegram</th>\n      <th>power</th>\n      <th>rcurrent_ucomp</th>\n      <th>rcurrent_vcomp</th>\n      <th>stw</th>\n      <th>timeSinceDryDock</th>\n    </tr>\n  </thead>\n  <tbody>\n    <tr>\n      <th>count</th>\n      <td>5.231900e+05</td>\n      <td>5.231900e+05</td>\n      <td>5.231900e+05</td>\n      <td>5.231900e+05</td>\n      <td>5.231900e+05</td>\n      <td>5.231900e+05</td>\n      <td>5.231900e+05</td>\n      <td>5.231900e+05</td>\n      <td>5.231900e+05</td>\n      <td>5.231900e+05</td>\n      <td>523190.000000</td>\n    </tr>\n    <tr>\n      <th>mean</th>\n      <td>-1.508031e-16</td>\n      <td>-2.503244e-16</td>\n      <td>1.373308e-16</td>\n      <td>-2.585817e-17</td>\n      <td>1.964351e-15</td>\n      <td>1.043018e-17</td>\n      <td>1.894817e-16</td>\n      <td>-6.518865e-18</td>\n      <td>-4.345910e-18</td>\n      <td>1.324633e-15</td>\n      <td>0.226110</td>\n    </tr>\n    <tr>\n      <th>std</th>\n      <td>1.000000e+00</td>\n      <td>1.000000e+00</td>\n      <td>1.000000e+00</td>\n      <td>1.000000e+00</td>\n      <td>1.000000e+00</td>\n      <td>1.000000e+00</td>\n      <td>1.000000e+00</td>\n      <td>1.000000e+00</td>\n      <td>1.000000e+00</td>\n      <td>1.000000e+00</td>\n      <td>0.105390</td>\n    </tr>\n    <tr>\n      <th>min</th>\n      <td>-1.609081e+00</td>\n      <td>-3.310021e+00</td>\n      <td>-2.232109e+00</td>\n      <td>-8.232534e+00</td>\n      <td>-3.446784e+00</td>\n      <td>-3.433145e+00</td>\n      <td>-2.426341e+00</td>\n      <td>-5.882673e+00</td>\n      <td>-4.390627e+00</td>\n      <td>-4.405004e+00</td>\n      <td>0.002492</td>\n    </tr>\n    <tr>\n      <th>25%</th>\n      <td>-8.116068e-01</td>\n      <td>-7.564000e-01</td>\n      <td>-6.934100e-01</td>\n      <td>-6.196748e-01</td>\n      <td>-7.911742e-01</td>\n      <td>-7.115869e-01</td>\n      <td>-8.845777e-01</td>\n      <td>-4.522424e-01</td>\n      <td>-4.175400e-01</td>\n      <td>-7.257049e-01</td>\n      <td>0.154468</td>\n    </tr>\n    <tr>\n      <th>50%</th>\n      <td>-2.453545e-01</td>\n      <td>-1.782838e-02</td>\n      <td>-1.144700e-01</td>\n      <td>-1.413945e-03</td>\n      <td>2.027145e-01</td>\n      <td>1.915621e-01</td>\n      <td>1.926598e-01</td>\n      <td>-1.786759e-02</td>\n      <td>1.458298e-02</td>\n      <td>3.610918e-01</td>\n      <td>0.239873</td>\n    </tr>\n    <tr>\n      <th>75%</th>\n      <td>6.358525e-01</td>\n      <td>7.451101e-01</td>\n      <td>5.606564e-01</td>\n      <td>6.174625e-01</td>\n      <td>7.546046e-01</td>\n      <td>7.928354e-01</td>\n      <td>7.263591e-01</td>\n      <td>4.341876e-01</td>\n      <td>4.191766e-01</td>\n      <td>6.765600e-01</td>\n      <td>0.314985</td>\n    </tr>\n    <tr>\n      <th>max</th>\n      <td>3.124058e+00</td>\n      <td>2.792529e+00</td>\n      <td>4.615205e+00</td>\n      <td>8.767026e+00</td>\n      <td>1.991983e+00</td>\n      <td>2.053773e+00</td>\n      <td>2.944730e+00</td>\n      <td>5.925018e+00</td>\n      <td>4.435618e+00</td>\n      <td>2.322942e+00</td>\n      <td>0.401345</td>\n    </tr>\n  </tbody>\n</table>\n</div>"
     },
     "execution_count": 9,
     "metadata": {},
     "output_type": "execute_result"
    }
   ],
   "source": [
    "train_ds.norm_df.describe()"
   ],
   "metadata": {
    "collapsed": false,
    "pycharm": {
     "name": "#%%\n"
    }
   }
  },
  {
   "cell_type": "code",
   "execution_count": 10,
   "outputs": [
    {
     "data": {
      "text/plain": "       awind_ucomp_provider  awind_vcomp_provider  \\\ncount          18108.000000          18108.000000   \nmean              -0.010589             -0.010394   \nstd                1.000879              1.003023   \nmin               -1.403206             -2.780314   \n25%               -0.825332             -0.776243   \n50%               -0.266308             -0.027246   \n75%                0.618634              0.737364   \nmax                2.962750              2.707252   \n\n       comb_wind_swell_wave_height  diff_speed_overground  draft_aft_telegram  \\\ncount                 18108.000000           18108.000000        18108.000000   \nmean                      0.000170              -0.004532           -0.018445   \nstd                       1.004720               1.008515            1.005792   \nmin                      -2.097898              -7.682830           -3.282808   \n25%                      -0.699829              -0.632162           -0.821703   \n50%                      -0.106138              -0.000047            0.179452   \n75%                       0.563308               0.618065            0.748202   \nmax                       4.371051               7.816620            1.929073   \n\n       draft_fore_telegram         power  rcurrent_ucomp  rcurrent_vcomp  \\\ncount         18108.000000  18108.000000    18108.000000    18108.000000   \nmean             -0.016511     -0.001157       -0.005270        0.017736   \nstd               1.006028      1.000186        1.017572        1.012673   \nmin              -3.318444     -2.385850       -5.718967       -4.376341   \n25%              -0.748621     -0.878052       -0.461039       -0.406383   \n50%               0.177131      0.191470       -0.026397        0.016753   \n75%               0.786455      0.725109        0.431936        0.431445   \nmax               1.893327      2.743653        5.728669        4.205173   \n\n                stw  timeSinceDryDock  \ncount  18108.000000      18108.000000  \nmean       0.001897          0.225050  \nstd        1.007507          0.105497  \nmin       -4.175345          0.002507  \n25%       -0.717358          0.150995  \n50%        0.366198          0.239491  \n75%        0.681011          0.314219  \nmax        2.252377          0.401342  ",
      "text/html": "<div>\n<style scoped>\n    .dataframe tbody tr th:only-of-type {\n        vertical-align: middle;\n    }\n\n    .dataframe tbody tr th {\n        vertical-align: top;\n    }\n\n    .dataframe thead th {\n        text-align: right;\n    }\n</style>\n<table border=\"1\" class=\"dataframe\">\n  <thead>\n    <tr style=\"text-align: right;\">\n      <th></th>\n      <th>awind_ucomp_provider</th>\n      <th>awind_vcomp_provider</th>\n      <th>comb_wind_swell_wave_height</th>\n      <th>diff_speed_overground</th>\n      <th>draft_aft_telegram</th>\n      <th>draft_fore_telegram</th>\n      <th>power</th>\n      <th>rcurrent_ucomp</th>\n      <th>rcurrent_vcomp</th>\n      <th>stw</th>\n      <th>timeSinceDryDock</th>\n    </tr>\n  </thead>\n  <tbody>\n    <tr>\n      <th>count</th>\n      <td>18108.000000</td>\n      <td>18108.000000</td>\n      <td>18108.000000</td>\n      <td>18108.000000</td>\n      <td>18108.000000</td>\n      <td>18108.000000</td>\n      <td>18108.000000</td>\n      <td>18108.000000</td>\n      <td>18108.000000</td>\n      <td>18108.000000</td>\n      <td>18108.000000</td>\n    </tr>\n    <tr>\n      <th>mean</th>\n      <td>-0.010589</td>\n      <td>-0.010394</td>\n      <td>0.000170</td>\n      <td>-0.004532</td>\n      <td>-0.018445</td>\n      <td>-0.016511</td>\n      <td>-0.001157</td>\n      <td>-0.005270</td>\n      <td>0.017736</td>\n      <td>0.001897</td>\n      <td>0.225050</td>\n    </tr>\n    <tr>\n      <th>std</th>\n      <td>1.000879</td>\n      <td>1.003023</td>\n      <td>1.004720</td>\n      <td>1.008515</td>\n      <td>1.005792</td>\n      <td>1.006028</td>\n      <td>1.000186</td>\n      <td>1.017572</td>\n      <td>1.012673</td>\n      <td>1.007507</td>\n      <td>0.105497</td>\n    </tr>\n    <tr>\n      <th>min</th>\n      <td>-1.403206</td>\n      <td>-2.780314</td>\n      <td>-2.097898</td>\n      <td>-7.682830</td>\n      <td>-3.282808</td>\n      <td>-3.318444</td>\n      <td>-2.385850</td>\n      <td>-5.718967</td>\n      <td>-4.376341</td>\n      <td>-4.175345</td>\n      <td>0.002507</td>\n    </tr>\n    <tr>\n      <th>25%</th>\n      <td>-0.825332</td>\n      <td>-0.776243</td>\n      <td>-0.699829</td>\n      <td>-0.632162</td>\n      <td>-0.821703</td>\n      <td>-0.748621</td>\n      <td>-0.878052</td>\n      <td>-0.461039</td>\n      <td>-0.406383</td>\n      <td>-0.717358</td>\n      <td>0.150995</td>\n    </tr>\n    <tr>\n      <th>50%</th>\n      <td>-0.266308</td>\n      <td>-0.027246</td>\n      <td>-0.106138</td>\n      <td>-0.000047</td>\n      <td>0.179452</td>\n      <td>0.177131</td>\n      <td>0.191470</td>\n      <td>-0.026397</td>\n      <td>0.016753</td>\n      <td>0.366198</td>\n      <td>0.239491</td>\n    </tr>\n    <tr>\n      <th>75%</th>\n      <td>0.618634</td>\n      <td>0.737364</td>\n      <td>0.563308</td>\n      <td>0.618065</td>\n      <td>0.748202</td>\n      <td>0.786455</td>\n      <td>0.725109</td>\n      <td>0.431936</td>\n      <td>0.431445</td>\n      <td>0.681011</td>\n      <td>0.314219</td>\n    </tr>\n    <tr>\n      <th>max</th>\n      <td>2.962750</td>\n      <td>2.707252</td>\n      <td>4.371051</td>\n      <td>7.816620</td>\n      <td>1.929073</td>\n      <td>1.893327</td>\n      <td>2.743653</td>\n      <td>5.728669</td>\n      <td>4.205173</td>\n      <td>2.252377</td>\n      <td>0.401342</td>\n    </tr>\n  </tbody>\n</table>\n</div>"
     },
     "execution_count": 10,
     "metadata": {},
     "output_type": "execute_result"
    }
   ],
   "source": [
    "val_ds.norm_df.describe()"
   ],
   "metadata": {
    "collapsed": false,
    "pycharm": {
     "name": "#%%\n"
    }
   }
  },
  {
   "cell_type": "markdown",
   "source": [
    "# Model training"
   ],
   "metadata": {
    "collapsed": false,
    "pycharm": {
     "name": "#%% md\n"
    }
   }
  },
  {
   "cell_type": "code",
   "execution_count": 11,
   "outputs": [
    {
     "name": "stdout",
     "output_type": "stream",
     "text": [
      "Epoch 0/200\n",
      "Average train loss: -0.2853951940674118\n",
      "Average val loss: -0.5574995627817648\n",
      "Val MSE: 0.04683192575830874\n",
      "Val MAE: 0.16776102277131047\n",
      "Saved to ../my_models/ens_mc_dropout_synthetic/member_1//best_model.pth\n",
      "Epoch 1/200\n",
      "Average train loss: -0.5135658929534598\n",
      "Average val loss: -0.598960886008432\n",
      "Val MSE: 0.042541675094363705\n",
      "Val MAE: 0.15836924169699632\n",
      "Saved to ../my_models/ens_mc_dropout_synthetic/member_1//best_model.pth\n",
      "Epoch 2/200\n",
      "Average train loss: -0.5546077330181495\n",
      "Average val loss: -0.6164311353222536\n",
      "Val MSE: 0.04256175184135355\n",
      "Val MAE: 0.15714147840313902\n",
      "Saved to ../my_models/ens_mc_dropout_synthetic/member_1//best_model.pth\n",
      "Epoch 3/200\n",
      "Average train loss: -0.5760266051648771\n",
      "Average val loss: -0.6213748013344017\n",
      "Val MSE: 0.041445817830462285\n",
      "Val MAE: 0.15590168504774993\n",
      "Saved to ../my_models/ens_mc_dropout_synthetic/member_1//best_model.pth\n",
      "Epoch 4/200\n",
      "Average train loss: -0.5863833563164196\n",
      "Average val loss: -0.6252325001557756\n",
      "Val MSE: 0.04111270418854648\n",
      "Val MAE: 0.15472362952655702\n",
      "Saved to ../my_models/ens_mc_dropout_synthetic/member_1//best_model.pth\n",
      "Epoch 5/200\n",
      "Average train loss: -0.593743322883314\n",
      "Average val loss: -0.6284669898450375\n",
      "Val MSE: 0.04065680158466048\n",
      "Val MAE: 0.15432422987247946\n",
      "Saved to ../my_models/ens_mc_dropout_synthetic/member_1//best_model.pth\n",
      "Epoch 6/200\n",
      "Average train loss: -0.5984829205536606\n",
      "Average val loss: -0.631432981187537\n",
      "Val MSE: 0.040180746455226\n",
      "Val MAE: 0.15386855515384842\n",
      "Saved to ../my_models/ens_mc_dropout_synthetic/member_1//best_model.pth\n",
      "Epoch 7/200\n",
      "Average train loss: -0.6035242885050424\n",
      "Average val loss: -0.6309184048936929\n",
      "Val MSE: 0.04024601258854168\n",
      "Val MAE: 0.15315403641849862\n",
      "Saved to ../my_models/ens_mc_dropout_synthetic/member_1//best_model.pth\n",
      "Epoch 8/200\n",
      "Average train loss: -0.6066020624387428\n",
      "Average val loss: -0.6325319325189392\n",
      "Val MSE: 0.04014901507583318\n",
      "Val MAE: 0.15296656361290717\n",
      "Saved to ../my_models/ens_mc_dropout_synthetic/member_1//best_model.pth\n",
      "Epoch 9/200\n",
      "Average train loss: -0.6084903252379974\n",
      "Average val loss: -0.6331924068455193\n",
      "Val MSE: 0.040530646852523666\n",
      "Val MAE: 0.15354113931711696\n",
      "Epoch 10/200\n",
      "Average train loss: -0.6104058629218546\n",
      "Average val loss: -0.6301148165537327\n",
      "Val MSE: 0.04047323032792381\n",
      "Val MAE: 0.15330820137720436\n",
      "Epoch 11/200\n",
      "Average train loss: -0.6118342717016965\n",
      "Average val loss: -0.6328364499538558\n",
      "Val MSE: 0.040243221023992075\n",
      "Val MAE: 0.153181650284217\n",
      "Epoch 12/200\n",
      "Average train loss: -0.6131177689287732\n",
      "Average val loss: -0.6350282309017418\n",
      "Val MSE: 0.04012633997917359\n",
      "Val MAE: 0.1532650119937667\n",
      "Early stopping\n",
      "Epoch 0/200\n",
      "Average train loss: -0.25413973124862993\n",
      "Average val loss: -0.5343638058198952\n",
      "Val MSE: 0.04828968965333258\n",
      "Val MAE: 0.17039070425838126\n",
      "Saved to ../my_models/ens_mc_dropout_synthetic/member_2//best_model.pth\n",
      "Epoch 1/200\n",
      "Average train loss: -0.4835612761070923\n",
      "Average val loss: -0.5721856968957839\n",
      "Val MSE: 0.04401556191909992\n",
      "Val MAE: 0.16249420880850127\n",
      "Saved to ../my_models/ens_mc_dropout_synthetic/member_2//best_model.pth\n",
      "Epoch 2/200\n",
      "Average train loss: -0.5198464029122839\n",
      "Average val loss: -0.5949334881166424\n",
      "Val MSE: 0.04159646589957283\n",
      "Val MAE: 0.15738347858559115\n",
      "Saved to ../my_models/ens_mc_dropout_synthetic/member_2//best_model.pth\n",
      "Epoch 3/200\n",
      "Average train loss: -0.5467747092354097\n",
      "Average val loss: -0.6049119731437665\n",
      "Val MSE: 0.04353367619861457\n",
      "Val MAE: 0.16011760284459423\n",
      "Epoch 4/200\n",
      "Average train loss: -0.5662576613230033\n",
      "Average val loss: -0.6232103010270968\n",
      "Val MSE: 0.04162955224306681\n",
      "Val MAE: 0.15550765077922454\n",
      "Saved to ../my_models/ens_mc_dropout_synthetic/member_2//best_model.pth\n",
      "Epoch 5/200\n",
      "Average train loss: -0.5785312065361381\n",
      "Average val loss: -0.6227790775047385\n",
      "Val MSE: 0.04167509069271359\n",
      "Val MAE: 0.15616278956535637\n",
      "Epoch 6/200\n",
      "Average train loss: -0.5865305691677223\n",
      "Average val loss: -0.6283759182786351\n",
      "Val MSE: 0.04201395234484686\n",
      "Val MAE: 0.15662131153784245\n",
      "Epoch 7/200\n",
      "Average train loss: -0.5926897476198841\n",
      "Average val loss: -0.6316338817954275\n",
      "Val MSE: 0.04042820333315606\n",
      "Val MAE: 0.15402184270138033\n",
      "Saved to ../my_models/ens_mc_dropout_synthetic/member_2//best_model.pth\n",
      "Epoch 8/200\n",
      "Average train loss: -0.5977782056330267\n",
      "Average val loss: -0.6285434654838152\n",
      "Val MSE: 0.04116907452279208\n",
      "Val MAE: 0.15504896576276095\n",
      "Epoch 9/200\n",
      "Average train loss: -0.6013727768617668\n",
      "Average val loss: -0.6325554991562196\n",
      "Val MSE: 0.040221671158342555\n",
      "Val MAE: 0.15263217605992677\n",
      "Saved to ../my_models/ens_mc_dropout_synthetic/member_2//best_model.pth\n",
      "Epoch 10/200\n",
      "Average train loss: -0.6041016452374444\n",
      "Average val loss: -0.629069954940108\n",
      "Val MSE: 0.04264978873839621\n",
      "Val MAE: 0.1578957733793625\n",
      "Epoch 11/200\n",
      "Average train loss: -0.607217082723474\n",
      "Average val loss: -0.6320024017349886\n",
      "Val MSE: 0.04109896737473356\n",
      "Val MAE: 0.15440295595188655\n",
      "Epoch 12/200\n",
      "Average train loss: -0.6078578116703744\n",
      "Average val loss: -0.63400724102404\n",
      "Val MSE: 0.040751254004212395\n",
      "Val MAE: 0.15396240911061476\n",
      "Epoch 13/200\n",
      "Average train loss: -0.6104358257429634\n",
      "Average val loss: -0.6329219295271399\n",
      "Val MSE: 0.04109855211428745\n",
      "Val MAE: 0.1558199651315545\n",
      "Early stopping\n",
      "Epoch 0/200\n",
      "Average train loss: -0.29078708273817183\n",
      "Average val loss: -0.5599826405371141\n",
      "Val MSE: 0.0462706489472028\n",
      "Val MAE: 0.16723302134408125\n",
      "Saved to ../my_models/ens_mc_dropout_synthetic/member_3//best_model.pth\n",
      "Epoch 1/200\n",
      "Average train loss: -0.505477356939642\n",
      "Average val loss: -0.5812167625400393\n",
      "Val MSE: 0.04394601889665472\n",
      "Val MAE: 0.16140074458618256\n",
      "Saved to ../my_models/ens_mc_dropout_synthetic/member_3//best_model.pth\n",
      "Epoch 2/200\n",
      "Average train loss: -0.5374858747238139\n",
      "Average val loss: -0.5996262889072405\n",
      "Val MSE: 0.04226164533114949\n",
      "Val MAE: 0.15806885405242865\n",
      "Saved to ../my_models/ens_mc_dropout_synthetic/member_3//best_model.pth\n",
      "Epoch 3/200\n",
      "Average train loss: -0.5589293248914979\n",
      "Average val loss: -0.6122062023656686\n",
      "Val MSE: 0.04197304761497955\n",
      "Val MAE: 0.15762361863055416\n",
      "Saved to ../my_models/ens_mc_dropout_synthetic/member_3//best_model.pth\n",
      "Epoch 4/200\n",
      "Average train loss: -0.5749769881377936\n",
      "Average val loss: -0.6224454037660845\n",
      "Val MSE: 0.03981518131341825\n",
      "Val MAE: 0.1531937675609816\n",
      "Saved to ../my_models/ens_mc_dropout_synthetic/member_3//best_model.pth\n",
      "Epoch 5/200\n",
      "Average train loss: -0.5845275043929707\n",
      "Average val loss: -0.6246849288801949\n",
      "Val MSE: 0.040836490784498594\n",
      "Val MAE: 0.15433795785024604\n",
      "Epoch 6/200\n",
      "Average train loss: -0.5892670190213561\n",
      "Average val loss: -0.6282468611117807\n",
      "Val MSE: 0.041089175259135004\n",
      "Val MAE: 0.15482511561587717\n",
      "Epoch 7/200\n",
      "Average train loss: -0.5951780328468992\n",
      "Average val loss: -0.6255547635309898\n",
      "Val MSE: 0.040836663807284866\n",
      "Val MAE: 0.1543969850157891\n",
      "Epoch 8/200\n",
      "Average train loss: -0.5970929513400597\n",
      "Average val loss: -0.6224730443538499\n",
      "Val MSE: 0.04196257426324482\n",
      "Val MAE: 0.1572198650730583\n",
      "Early stopping\n",
      "Epoch 0/200\n",
      "Average train loss: -0.32700752834763824\n",
      "Average val loss: -0.5568572399124188\n",
      "Val MSE: 0.04678345014597865\n",
      "Val MAE: 0.16722704329307425\n",
      "Saved to ../my_models/ens_mc_dropout_synthetic/member_4//best_model.pth\n",
      "Epoch 1/200\n",
      "Average train loss: -0.5093234454950927\n",
      "Average val loss: -0.5837013820916835\n",
      "Val MSE: 0.04328274231176994\n",
      "Val MAE: 0.16060351929215996\n",
      "Saved to ../my_models/ens_mc_dropout_synthetic/member_4//best_model.pth\n",
      "Epoch 2/200\n",
      "Average train loss: -0.5391345477746714\n",
      "Average val loss: -0.6021278794071647\n",
      "Val MSE: 0.041570734379108826\n",
      "Val MAE: 0.1569663345116082\n",
      "Saved to ../my_models/ens_mc_dropout_synthetic/member_4//best_model.pth\n",
      "Epoch 3/200\n",
      "Average train loss: -0.5624179953906332\n",
      "Average val loss: -0.6168605115646397\n",
      "Val MSE: 0.040003911710538416\n",
      "Val MAE: 0.15345587834794824\n",
      "Saved to ../my_models/ens_mc_dropout_synthetic/member_4//best_model.pth\n",
      "Epoch 4/200\n",
      "Average train loss: -0.5783876924869528\n",
      "Average val loss: -0.6186638597477978\n",
      "Val MSE: 0.043495900324272654\n",
      "Val MAE: 0.1589521579181137\n",
      "Epoch 5/200\n",
      "Average train loss: -0.5876773069293127\n",
      "Average val loss: -0.6267184517856411\n",
      "Val MSE: 0.04143019683260879\n",
      "Val MAE: 0.15581453624494085\n",
      "Epoch 6/200\n",
      "Average train loss: -0.5940913366478517\n",
      "Average val loss: -0.6242884291342522\n",
      "Val MSE: 0.04122045500756837\n",
      "Val MAE: 0.15550189506091414\n",
      "Epoch 7/200\n",
      "Average train loss: -0.5972001380730841\n",
      "Average val loss: -0.6263195380351305\n",
      "Val MSE: 0.042312959104598674\n",
      "Val MAE: 0.15633860964973065\n",
      "Early stopping\n",
      "Epoch 0/200\n",
      "Average train loss: -0.2956423222836369\n",
      "Average val loss: -0.5475100421744922\n",
      "Val MSE: 0.04599634240062203\n",
      "Val MAE: 0.1659450828634176\n",
      "Saved to ../my_models/ens_mc_dropout_synthetic/member_5//best_model.pth\n",
      "Epoch 1/200\n",
      "Average train loss: -0.4963118674064949\n",
      "Average val loss: -0.5747777784815842\n",
      "Val MSE: 0.04522353911430117\n",
      "Val MAE: 0.16381417766424033\n",
      "Saved to ../my_models/ens_mc_dropout_synthetic/member_5//best_model.pth\n",
      "Epoch 2/200\n",
      "Average train loss: -0.5308653489018389\n",
      "Average val loss: -0.5905417145193677\n",
      "Val MSE: 0.04411457625280263\n",
      "Val MAE: 0.1618421217788656\n",
      "Saved to ../my_models/ens_mc_dropout_synthetic/member_5//best_model.pth\n",
      "Epoch 3/200\n",
      "Average train loss: -0.5554192784262268\n",
      "Average val loss: -0.6029876285354366\n",
      "Val MSE: 0.042983544987129446\n",
      "Val MAE: 0.159016024005392\n",
      "Saved to ../my_models/ens_mc_dropout_synthetic/member_5//best_model.pth\n",
      "Epoch 4/200\n",
      "Average train loss: -0.5711807350823457\n",
      "Average val loss: -0.6165708250402351\n",
      "Val MSE: 0.04303593480673227\n",
      "Val MAE: 0.1589526606151051\n",
      "Saved to ../my_models/ens_mc_dropout_synthetic/member_5//best_model.pth\n",
      "Epoch 5/200\n",
      "Average train loss: -0.5823731223003944\n",
      "Average val loss: -0.6232776571585148\n",
      "Val MSE: 0.042836837363577455\n",
      "Val MAE: 0.15759851317523646\n",
      "Saved to ../my_models/ens_mc_dropout_synthetic/member_5//best_model.pth\n",
      "Epoch 6/200\n",
      "Average train loss: -0.5902752679552233\n",
      "Average val loss: -0.6271325512641099\n",
      "Val MSE: 0.042414110427057575\n",
      "Val MAE: 0.15668958670364252\n",
      "Saved to ../my_models/ens_mc_dropout_synthetic/member_5//best_model.pth\n",
      "Epoch 7/200\n",
      "Average train loss: -0.5955850299855621\n",
      "Average val loss: -0.6268348936353524\n",
      "Val MSE: 0.041242567702219575\n",
      "Val MAE: 0.15562234747852116\n",
      "Saved to ../my_models/ens_mc_dropout_synthetic/member_5//best_model.pth\n",
      "Epoch 8/200\n",
      "Average train loss: -0.5988647994116542\n",
      "Average val loss: -0.6288240289466962\n",
      "Val MSE: 0.0412912090101638\n",
      "Val MAE: 0.1551989905220249\n",
      "Saved to ../my_models/ens_mc_dropout_synthetic/member_5//best_model.pth\n",
      "Epoch 9/200\n",
      "Average train loss: -0.6028135870411901\n",
      "Average val loss: -0.6294243928973066\n",
      "Val MSE: 0.04122886504622525\n",
      "Val MAE: 0.15487584424313725\n",
      "Saved to ../my_models/ens_mc_dropout_synthetic/member_5//best_model.pth\n",
      "Epoch 10/200\n",
      "Average train loss: -0.6047809666263037\n",
      "Average val loss: -0.6330905259280818\n",
      "Val MSE: 0.04074495202160766\n",
      "Val MAE: 0.15383968454894245\n",
      "Saved to ../my_models/ens_mc_dropout_synthetic/member_5//best_model.pth\n",
      "Epoch 11/200\n",
      "Average train loss: -0.6066546121113208\n",
      "Average val loss: -0.6328817069128998\n",
      "Val MSE: 0.039376990302785075\n",
      "Val MAE: 0.1519811268264013\n",
      "Saved to ../my_models/ens_mc_dropout_synthetic/member_5//best_model.pth\n",
      "Epoch 12/200\n",
      "Average train loss: -0.607760286554922\n",
      "Average val loss: -0.6330169149881801\n",
      "Val MSE: 0.04037671052199186\n",
      "Val MAE: 0.15372478126716066\n",
      "Epoch 13/200\n",
      "Average train loss: -0.6095156794980123\n",
      "Average val loss: -0.6302390288225912\n",
      "Val MSE: 0.04170482769253081\n",
      "Val MAE: 0.1564660497378334\n",
      "Epoch 14/200\n",
      "Average train loss: -0.6110614231830344\n",
      "Average val loss: -0.6324400728693489\n",
      "Val MSE: 0.03983891179929932\n",
      "Val MAE: 0.15254190916281074\n",
      "Epoch 15/200\n",
      "Average train loss: -0.6119497247906088\n",
      "Average val loss: -0.6335716488583559\n",
      "Val MSE: 0.03984420186866325\n",
      "Val MAE: 0.15189014121811087\n",
      "Saved to ../my_models/ens_mc_dropout_synthetic/member_5//best_model.pth\n",
      "Epoch 16/200\n",
      "Average train loss: -0.6119723460577223\n",
      "Average val loss: -0.6356875920609009\n",
      "Val MSE: 0.040081941398426676\n",
      "Val MAE: 0.15286508785040767\n",
      "Epoch 17/200\n",
      "Average train loss: -0.6144789056367147\n",
      "Average val loss: -0.6344329543944857\n",
      "Val MSE: 0.03888962688845954\n",
      "Val MAE: 0.151537761335712\n",
      "Saved to ../my_models/ens_mc_dropout_synthetic/member_5//best_model.pth\n",
      "Epoch 18/200\n",
      "Average train loss: -0.6154814264496122\n",
      "Average val loss: -0.6340488178964849\n",
      "Val MSE: 0.04009112755294113\n",
      "Val MAE: 0.15291162214962628\n",
      "Epoch 19/200\n",
      "Average train loss: -0.6160395043161029\n",
      "Average val loss: -0.6375657430695297\n",
      "Val MSE: 0.03978665656156759\n",
      "Val MAE: 0.15245704798442525\n",
      "Epoch 20/200\n",
      "Average train loss: -0.6167538844592391\n",
      "Average val loss: -0.6360214311241208\n",
      "Val MSE: 0.04077385248724937\n",
      "Val MAE: 0.1534821724473061\n",
      "Epoch 21/200\n",
      "Average train loss: -0.6172539128139843\n",
      "Average val loss: -0.6348511152456485\n",
      "Val MSE: 0.040459376805076906\n",
      "Val MAE: 0.15318387538826508\n",
      "Early stopping\n",
      "Epoch 0/200\n",
      "Average train loss: -0.19245720584879683\n",
      "Average val loss: -0.551356608828023\n",
      "Val MSE: 0.046595601559132865\n",
      "Val MAE: 0.16756725558754412\n",
      "Saved to ../my_models/ens_mc_dropout_synthetic/member_6//best_model.pth\n",
      "Epoch 1/200\n",
      "Average train loss: -0.49860560272071247\n",
      "Average val loss: -0.5850579266439689\n",
      "Val MSE: 0.04364667374265541\n",
      "Val MAE: 0.16045053341416082\n",
      "Saved to ../my_models/ens_mc_dropout_synthetic/member_6//best_model.pth\n",
      "Epoch 2/200\n",
      "Average train loss: -0.5392875965787183\n",
      "Average val loss: -0.6006758354814862\n",
      "Val MSE: 0.04291230104057375\n",
      "Val MAE: 0.15977586616923237\n",
      "Saved to ../my_models/ens_mc_dropout_synthetic/member_6//best_model.pth\n",
      "Epoch 3/200\n",
      "Average train loss: -0.5636819604248811\n",
      "Average val loss: -0.609258867885799\n",
      "Val MSE: 0.04499589761327492\n",
      "Val MAE: 0.16125007740521388\n",
      "Epoch 4/200\n",
      "Average train loss: -0.5774687239306692\n",
      "Average val loss: -0.6210735824103911\n",
      "Val MSE: 0.04285526797652587\n",
      "Val MAE: 0.15719733016019155\n",
      "Saved to ../my_models/ens_mc_dropout_synthetic/member_6//best_model.pth\n",
      "Epoch 5/200\n",
      "Average train loss: -0.5856713877037304\n",
      "Average val loss: -0.6267716097069556\n",
      "Val MSE: 0.04259090232679311\n",
      "Val MAE: 0.1559592290277932\n",
      "Saved to ../my_models/ens_mc_dropout_synthetic/member_6//best_model.pth\n",
      "Epoch 6/200\n",
      "Average train loss: -0.5910464432376468\n",
      "Average val loss: -0.6274894979015625\n",
      "Val MSE: 0.042313103504024785\n",
      "Val MAE: 0.15577509194322905\n",
      "Saved to ../my_models/ens_mc_dropout_synthetic/member_6//best_model.pth\n",
      "Epoch 7/200\n",
      "Average train loss: -0.5964057456139213\n",
      "Average val loss: -0.6292285629755459\n",
      "Val MSE: 0.0420224556046153\n",
      "Val MAE: 0.15549328261756012\n",
      "Saved to ../my_models/ens_mc_dropout_synthetic/member_6//best_model.pth\n",
      "Epoch 8/200\n",
      "Average train loss: -0.5995365461970278\n",
      "Average val loss: -0.6289711722136597\n",
      "Val MSE: 0.040138473035767674\n",
      "Val MAE: 0.15329951353292162\n",
      "Saved to ../my_models/ens_mc_dropout_synthetic/member_6//best_model.pth\n",
      "Epoch 9/200\n",
      "Average train loss: -0.6032392093855945\n",
      "Average val loss: -0.6247139033555406\n",
      "Val MSE: 0.040956253548277796\n",
      "Val MAE: 0.1539654861543288\n",
      "Epoch 10/200\n",
      "Average train loss: -0.6061282270697916\n",
      "Average val loss: -0.630090447027539\n",
      "Val MSE: 0.04117023189183548\n",
      "Val MAE: 0.15554648454797984\n",
      "Epoch 11/200\n",
      "Average train loss: -0.6090423720669491\n",
      "Average val loss: -0.6324962743396736\n",
      "Val MSE: 0.0405555763964742\n",
      "Val MAE: 0.153548645941613\n",
      "Epoch 12/200\n",
      "Average train loss: -0.6100569339508949\n",
      "Average val loss: -0.629072967031477\n",
      "Val MSE: 0.041369044824993706\n",
      "Val MAE: 0.15551188540095365\n",
      "Early stopping\n",
      "Epoch 0/200\n",
      "Average train loss: -0.27117635272693924\n",
      "Average val loss: -0.5508814431536061\n",
      "Val MSE: 0.047113424717438776\n",
      "Val MAE: 0.16799543891431165\n",
      "Saved to ../my_models/ens_mc_dropout_synthetic/member_7//best_model.pth\n",
      "Epoch 1/200\n",
      "Average train loss: -0.5043295322035066\n",
      "Average val loss: -0.5638677430743937\n",
      "Val MSE: 0.04471429257962997\n",
      "Val MAE: 0.16306493909167316\n",
      "Saved to ../my_models/ens_mc_dropout_synthetic/member_7//best_model.pth\n",
      "Epoch 2/200\n",
      "Average train loss: -0.5358781942137337\n",
      "Average val loss: -0.5928238682652899\n",
      "Val MSE: 0.04426857536615863\n",
      "Val MAE: 0.16199335481563432\n",
      "Saved to ../my_models/ens_mc_dropout_synthetic/member_7//best_model.pth\n",
      "Epoch 3/200\n",
      "Average train loss: -0.5584736063548958\n",
      "Average val loss: -0.6113950055316354\n",
      "Val MSE: 0.042254653613678715\n",
      "Val MAE: 0.15803216141072685\n",
      "Saved to ../my_models/ens_mc_dropout_synthetic/member_7//best_model.pth\n",
      "Epoch 4/200\n",
      "Average train loss: -0.5757800641794908\n",
      "Average val loss: -0.6240977615466862\n",
      "Val MSE: 0.04149041005637326\n",
      "Val MAE: 0.15590038651422772\n",
      "Saved to ../my_models/ens_mc_dropout_synthetic/member_7//best_model.pth\n",
      "Epoch 5/200\n",
      "Average train loss: -0.5848643820917387\n",
      "Average val loss: -0.6272634980680138\n",
      "Val MSE: 0.041930614718048445\n",
      "Val MAE: 0.15612031212701816\n",
      "Epoch 6/200\n",
      "Average train loss: -0.5912102050094976\n",
      "Average val loss: -0.6228664633636972\n",
      "Val MSE: 0.042748099479284596\n",
      "Val MAE: 0.15803960126959604\n",
      "Epoch 7/200\n",
      "Average train loss: -0.5952884233027514\n",
      "Average val loss: -0.6291684964309733\n",
      "Val MSE: 0.04201443748328137\n",
      "Val MAE: 0.15655335503574394\n",
      "Epoch 8/200\n",
      "Average train loss: -0.5996079492682893\n",
      "Average val loss: -0.6271947460848009\n",
      "Val MSE: 0.041436661507065535\n",
      "Val MAE: 0.15559362965000814\n",
      "Saved to ../my_models/ens_mc_dropout_synthetic/member_7//best_model.pth\n",
      "Epoch 9/200\n",
      "Average train loss: -0.6018223679135197\n",
      "Average val loss: -0.630421956145458\n",
      "Val MSE: 0.03890666738563865\n",
      "Val MAE: 0.15048261709484953\n",
      "Saved to ../my_models/ens_mc_dropout_synthetic/member_7//best_model.pth\n",
      "Epoch 10/200\n",
      "Average train loss: -0.6047721703318646\n",
      "Average val loss: -0.6304018537089386\n",
      "Val MSE: 0.04231770587558512\n",
      "Val MAE: 0.1569977639565514\n",
      "Epoch 11/200\n",
      "Average train loss: -0.606117183127489\n",
      "Average val loss: -0.628714917619242\n",
      "Val MSE: 0.04071020480581023\n",
      "Val MAE: 0.15428185651848889\n",
      "Epoch 12/200\n",
      "Average train loss: -0.6083424151791345\n",
      "Average val loss: -0.6323828816400716\n",
      "Val MSE: 0.04093790517925769\n",
      "Val MAE: 0.15433367843288837\n",
      "Epoch 13/200\n",
      "Average train loss: -0.6104385040755119\n",
      "Average val loss: -0.6280833678385868\n",
      "Val MSE: 0.04107300938985742\n",
      "Val MAE: 0.15430429901651274\n",
      "Early stopping\n",
      "Epoch 0/200\n",
      "Average train loss: -0.2936648066600483\n",
      "Average val loss: -0.5504559857125786\n",
      "Val MSE: 0.0462955504165495\n",
      "Val MAE: 0.16685136060095507\n",
      "Saved to ../my_models/ens_mc_dropout_synthetic/member_8//best_model.pth\n",
      "Epoch 1/200\n",
      "Average train loss: -0.5022883078515165\n",
      "Average val loss: -0.5783217192920379\n",
      "Val MSE: 0.043968479139993605\n",
      "Val MAE: 0.16155466844094094\n",
      "Saved to ../my_models/ens_mc_dropout_synthetic/member_8//best_model.pth\n",
      "Epoch 2/200\n",
      "Average train loss: -0.5346968193940066\n",
      "Average val loss: -0.5940375386773487\n",
      "Val MSE: 0.04275493899297772\n",
      "Val MAE: 0.15985412154570486\n",
      "Saved to ../my_models/ens_mc_dropout_synthetic/member_8//best_model.pth\n",
      "Epoch 3/200\n",
      "Average train loss: -0.5576871607998324\n",
      "Average val loss: -0.607996660837568\n",
      "Val MSE: 0.04287634469904401\n",
      "Val MAE: 0.15905586943398936\n",
      "Saved to ../my_models/ens_mc_dropout_synthetic/member_8//best_model.pth\n",
      "Epoch 4/200\n",
      "Average train loss: -0.5759239258110205\n",
      "Average val loss: -0.6198231236443135\n",
      "Val MSE: 0.04244025086065879\n",
      "Val MAE: 0.1574944350210285\n",
      "Saved to ../my_models/ens_mc_dropout_synthetic/member_8//best_model.pth\n",
      "Epoch 5/200\n",
      "Average train loss: -0.5846830141514722\n",
      "Average val loss: -0.6229352422664106\n",
      "Val MSE: 0.041784390892715\n",
      "Val MAE: 0.1555354152690922\n",
      "Saved to ../my_models/ens_mc_dropout_synthetic/member_8//best_model.pth\n",
      "Epoch 6/200\n",
      "Average train loss: -0.5923548999681658\n",
      "Average val loss: -0.6184891484704119\n",
      "Val MSE: 0.04243925901281223\n",
      "Val MAE: 0.15694091170236416\n",
      "Epoch 7/200\n",
      "Average train loss: -0.596618865455646\n",
      "Average val loss: -0.6304991898610661\n",
      "Val MSE: 0.04043668891918638\n",
      "Val MAE: 0.15378237492651695\n",
      "Saved to ../my_models/ens_mc_dropout_synthetic/member_8//best_model.pth\n",
      "Epoch 8/200\n",
      "Average train loss: -0.6004208608536727\n",
      "Average val loss: -0.6312410770339543\n",
      "Val MSE: 0.04033517926954418\n",
      "Val MAE: 0.15324698578790094\n",
      "Saved to ../my_models/ens_mc_dropout_synthetic/member_8//best_model.pth\n",
      "Epoch 9/200\n",
      "Average train loss: -0.6033875090904557\n",
      "Average val loss: -0.632194404125003\n",
      "Val MSE: 0.041442859856997596\n",
      "Val MAE: 0.15528689562458242\n",
      "Epoch 10/200\n",
      "Average train loss: -0.6053828667730822\n",
      "Average val loss: -0.6340543226875338\n",
      "Val MSE: 0.04174873504011033\n",
      "Val MAE: 0.15590283589918075\n",
      "Epoch 11/200\n",
      "Average train loss: -0.6082457243820897\n",
      "Average val loss: -0.632464645022375\n",
      "Val MSE: 0.0398138075665482\n",
      "Val MAE: 0.15213316511165337\n",
      "Saved to ../my_models/ens_mc_dropout_synthetic/member_8//best_model.pth\n",
      "Epoch 12/200\n",
      "Average train loss: -0.6098207659128518\n",
      "Average val loss: -0.6327966472245884\n",
      "Val MSE: 0.04039273177793533\n",
      "Val MAE: 0.15364879532305806\n",
      "Epoch 13/200\n",
      "Average train loss: -0.6114979873148765\n",
      "Average val loss: -0.6317601324266395\n",
      "Val MSE: 0.04051594991753595\n",
      "Val MAE: 0.15436101870696872\n",
      "Epoch 14/200\n",
      "Average train loss: -0.6128620725731146\n",
      "Average val loss: -0.6359534637127138\n",
      "Val MSE: 0.04085597350976229\n",
      "Val MAE: 0.1540851470398924\n",
      "Epoch 15/200\n",
      "Average train loss: -0.6146452838013843\n",
      "Average val loss: -0.6235681858716711\n",
      "Val MSE: 0.04093838365198946\n",
      "Val MAE: 0.1561114654840092\n",
      "Early stopping\n",
      "Epoch 0/200\n",
      "Average train loss: -0.25701438804102966\n",
      "Average val loss: -0.5554897479923581\n",
      "Val MSE: 0.046103168497776924\n",
      "Val MAE: 0.16620510409819786\n",
      "Saved to ../my_models/ens_mc_dropout_synthetic/member_9//best_model.pth\n",
      "Epoch 1/200\n",
      "Average train loss: -0.5052730980488138\n",
      "Average val loss: -0.5812053713394665\n",
      "Val MSE: 0.044243333927049655\n",
      "Val MAE: 0.16175613082392476\n",
      "Saved to ../my_models/ens_mc_dropout_synthetic/member_9//best_model.pth\n",
      "Epoch 2/200\n",
      "Average train loss: -0.5401525983487794\n",
      "Average val loss: -0.5992000295250766\n",
      "Val MSE: 0.04479944684572334\n",
      "Val MAE: 0.16216290801394956\n",
      "Epoch 3/200\n",
      "Average train loss: -0.5617093917328739\n",
      "Average val loss: -0.6153806717342338\n",
      "Val MSE: 0.042560502027849216\n",
      "Val MAE: 0.15797646884730765\n",
      "Saved to ../my_models/ens_mc_dropout_synthetic/member_9//best_model.pth\n",
      "Epoch 4/200\n",
      "Average train loss: -0.5774081607160674\n",
      "Average val loss: -0.6213881304592894\n",
      "Val MSE: 0.04241169855498804\n",
      "Val MAE: 0.15614784829476486\n",
      "Saved to ../my_models/ens_mc_dropout_synthetic/member_9//best_model.pth\n",
      "Epoch 5/200\n",
      "Average train loss: -0.5876744251222057\n",
      "Average val loss: -0.6262797796473486\n",
      "Val MSE: 0.04134780089963267\n",
      "Val MAE: 0.15502239846009036\n",
      "Saved to ../my_models/ens_mc_dropout_synthetic/member_9//best_model.pth\n",
      "Epoch 6/200\n",
      "Average train loss: -0.5939516402752529\n",
      "Average val loss: -0.6285487066513394\n",
      "Val MSE: 0.0417984737430505\n",
      "Val MAE: 0.1567545182634369\n",
      "Epoch 7/200\n",
      "Average train loss: -0.5983506013474652\n",
      "Average val loss: -0.628928919556442\n",
      "Val MSE: 0.040480277490351255\n",
      "Val MAE: 0.15388683766100306\n",
      "Saved to ../my_models/ens_mc_dropout_synthetic/member_9//best_model.pth\n",
      "Epoch 8/200\n",
      "Average train loss: -0.6017108325812885\n",
      "Average val loss: -0.6276435029064388\n",
      "Val MSE: 0.04200718645500052\n",
      "Val MAE: 0.15700355407127012\n",
      "Epoch 9/200\n",
      "Average train loss: -0.6031830537809053\n",
      "Average val loss: -0.6275973996581912\n",
      "Val MSE: 0.04230546469013651\n",
      "Val MAE: 0.15722925415387634\n",
      "Epoch 10/200\n",
      "Average train loss: -0.6064413452517549\n",
      "Average val loss: -0.6328477104434698\n",
      "Val MSE: 0.04120523740402538\n",
      "Val MAE: 0.1553356902074898\n",
      "Epoch 11/200\n",
      "Average train loss: -0.6085972382479122\n",
      "Average val loss: -0.6337281670421362\n",
      "Val MSE: 0.04100568487404355\n",
      "Val MAE: 0.15458752349835192\n",
      "Early stopping\n",
      "Epoch 0/200\n",
      "Average train loss: -0.2927848542220777\n",
      "Average val loss: -0.5553379934149475\n",
      "Val MSE: 0.047384984215372655\n",
      "Val MAE: 0.16762618390125858\n",
      "Saved to ../my_models/ens_mc_dropout_synthetic/member_10//best_model.pth\n",
      "Epoch 1/200\n",
      "Average train loss: -0.5108917761067732\n",
      "Average val loss: -0.5814695912331027\n",
      "Val MSE: 0.044633412714751415\n",
      "Val MAE: 0.16263648720833312\n",
      "Saved to ../my_models/ens_mc_dropout_synthetic/member_10//best_model.pth\n",
      "Epoch 2/200\n",
      "Average train loss: -0.5502452269709165\n",
      "Average val loss: -0.6159120645676822\n",
      "Val MSE: 0.04078419712971067\n",
      "Val MAE: 0.15511927222536856\n",
      "Saved to ../my_models/ens_mc_dropout_synthetic/member_10//best_model.pth\n",
      "Epoch 3/200\n",
      "Average train loss: -0.5692996996670779\n",
      "Average val loss: -0.6184144786726881\n",
      "Val MSE: 0.04347066818111224\n",
      "Val MAE: 0.1599464953840832\n",
      "Epoch 4/200\n",
      "Average train loss: -0.5804303087982198\n",
      "Average val loss: -0.62738851903092\n",
      "Val MSE: 0.04081427085035655\n",
      "Val MAE: 0.1551763446929177\n",
      "Epoch 5/200\n",
      "Average train loss: -0.5866957031854568\n",
      "Average val loss: -0.6272916666761883\n",
      "Val MSE: 0.04053052886826885\n",
      "Val MAE: 0.15365664029079276\n",
      "Saved to ../my_models/ens_mc_dropout_synthetic/member_10//best_model.pth\n",
      "Epoch 6/200\n",
      "Average train loss: -0.5918448183610352\n",
      "Average val loss: -0.6283158775445324\n",
      "Val MSE: 0.041993170578440805\n",
      "Val MAE: 0.1566583302477539\n",
      "Epoch 7/200\n",
      "Average train loss: -0.5952382627423477\n",
      "Average val loss: -0.6310069460105875\n",
      "Val MSE: 0.040007833860380176\n",
      "Val MAE: 0.152753076479892\n",
      "Saved to ../my_models/ens_mc_dropout_synthetic/member_10//best_model.pth\n",
      "Epoch 8/200\n",
      "Average train loss: -0.5978626512202921\n",
      "Average val loss: -0.6302427105875456\n",
      "Val MSE: 0.04132489118372936\n",
      "Val MAE: 0.15549478888537985\n",
      "Epoch 9/200\n",
      "Average train loss: -0.6011882959850793\n",
      "Average val loss: -0.6258250509517089\n",
      "Val MSE: 0.04152002291549853\n",
      "Val MAE: 0.1556623980481928\n",
      "Epoch 10/200\n",
      "Average train loss: -0.6031989881191232\n",
      "Average val loss: -0.6318450028754692\n",
      "Val MSE: 0.04163194628754901\n",
      "Val MAE: 0.15573990589843623\n",
      "Epoch 11/200\n",
      "Average train loss: -0.6053676562555795\n",
      "Average val loss: -0.6328094023026447\n",
      "Val MSE: 0.04030873272452806\n",
      "Val MAE: 0.15346314765302327\n",
      "Early stopping\n"
     ]
    }
   ],
   "source": [
    "models_hs = {}\n",
    "\n",
    "for i in range(1, 11):\n",
    "    store_path = os.path.join(model_dir, f\"member_{i}/\")\n",
    "    if not os.path.exists(store_path):\n",
    "        os.makedirs(store_path)\n",
    "\n",
    "    model = ProbMCdropoutDNN(input_size=len(input_features),\n",
    "                             hidden_size_1=50,\n",
    "                             hidden_size_2=20,\n",
    "                             dropout=0.005)\n",
    "    optimizer = torch.optim.Adam(params=model.parameters(), lr=0.0001)\n",
    "\n",
    "    history = train(model=model,\n",
    "                    train_dataset=train_ds,\n",
    "                    val_dataset=val_ds,\n",
    "                    optimizer=optimizer,\n",
    "                    store_path=store_path,\n",
    "                    batch_size=32,\n",
    "                    n_epochs=200,\n",
    "                    es_monitor=\"val_mae\",\n",
    "                    patience=4)\n",
    "    models_hs[i] = history\n",
    "\n",
    "    with open(os.path.join(store_path, f\"history.json\"), 'w') as jsonfile:\n",
    "        json.dump(history, jsonfile)"
   ],
   "metadata": {
    "collapsed": false,
    "pycharm": {
     "name": "#%%\n"
    }
   }
  },
  {
   "cell_type": "markdown",
   "metadata": {
    "pycharm": {
     "name": "#%% md\n"
    }
   },
   "source": [
    "# Learning curves"
   ]
  },
  {
   "cell_type": "code",
   "execution_count": 12,
   "metadata": {
    "pycharm": {
     "name": "#%%\n"
    }
   },
   "outputs": [
    {
     "data": {
      "text/plain": "<Figure size 432x324 with 1 Axes>",
      "image/png": "[encoded data removed]"
     },
     "metadata": {
      "needs_background": "light"
     },
     "output_type": "display_data"
    }
   ],
   "source": [
    "plot_learning_curve(history=models_hs,\n",
    "                    metric=\"loss\",\n",
    "                    label=\"NLL\",\n",
    "                    ylims=(-1, 1.5))"
   ]
  },
  {
   "cell_type": "code",
   "execution_count": 13,
   "metadata": {
    "pycharm": {
     "name": "#%%\n"
    }
   },
   "outputs": [
    {
     "data": {
      "text/plain": "<Figure size 432x324 with 1 Axes>",
      "image/png": "[encoded data removed]"
     },
     "metadata": {
      "needs_background": "light"
     },
     "output_type": "display_data"
    }
   ],
   "source": [
    "plot_learning_curve(history=models_hs,\n",
    "                    metric=\"mse\",\n",
    "                    label=\"MSE\",\n",
    "                    ylims=(0.01, 0.2))"
   ]
  },
  {
   "cell_type": "code",
   "execution_count": 14,
   "metadata": {
    "pycharm": {
     "name": "#%%\n"
    }
   },
   "outputs": [
    {
     "data": {
      "text/plain": "<Figure size 432x324 with 1 Axes>",
      "image/png": "[encoded data removed]"
     },
     "metadata": {
      "needs_background": "light"
     },
     "output_type": "display_data"
    }
   ],
   "source": [
    "plot_learning_curve(history=models_hs,\n",
    "                    metric=\"mae\",\n",
    "                    label=\"MAE\",\n",
    "                    ylims=(0.1, 0.35))"
   ]
  },
  {
   "cell_type": "code",
   "execution_count": null,
   "metadata": {
    "pycharm": {
     "name": "#%%\n"
    }
   },
   "outputs": [],
   "source": []
  }
 ],
 "metadata": {
  "kernelspec": {
   "name": "shifts_39",
   "language": "python",
   "display_name": "shifts_39"
  },
  "language_info": {
   "codemirror_mode": {
    "name": "ipython",
    "version": 3
   },
   "file_extension": ".py",
   "mimetype": "text/x-python",
   "name": "python",
   "nbconvert_exporter": "python",
   "pygments_lexer": "ipython3",
   "version": "3.6.11"
  }
 },
 "nbformat": 4,
 "nbformat_minor": 4
}