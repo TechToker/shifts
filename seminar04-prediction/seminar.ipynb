{
 "cells": [
  {
   "cell_type": "markdown",
   "id": "292fe24e",
   "metadata": {},
   "source": [
    "## Предсказание траекторий автомобилей"
   ]
  },
  {
   "cell_type": "code",
   "execution_count": 2,
   "id": "da8b63d0",
   "metadata": {},
   "outputs": [
    {
     "name": "stdout",
     "output_type": "stream",
     "text": [
      "Python 3.8.16\r\n"
     ]
    }
   ],
   "source": [
    "!python -V"
   ]
  },
  {
   "cell_type": "code",
   "execution_count": 3,
   "id": "42fc3843",
   "metadata": {},
   "outputs": [
    {
     "name": "stdout",
     "output_type": "stream",
     "text": [
      "3.8.16\n",
      "hi\n"
     ]
    }
   ],
   "source": [
    "from platform import python_version\n",
    "\n",
    "print(python_version())\n",
    "print('hi')"
   ]
  },
  {
   "cell_type": "code",
   "execution_count": 4,
   "id": "a3c86102",
   "metadata": {},
   "outputs": [],
   "source": [
    "from IPython.display import Video"
   ]
  },
  {
   "cell_type": "code",
   "execution_count": 5,
   "id": "87261e19",
   "metadata": {},
   "outputs": [
    {
     "data": {
      "text/plain": "<IPython.core.display.Video object>",
      "text/html": "<video src=\"motion-prediction-video.mp4\" controls  width=\"400\"  height=\"400\">\n      Your browser does not support the <code>video</code> element.\n    </video>"
     },
     "execution_count": 5,
     "metadata": {},
     "output_type": "execute_result"
    }
   ],
   "source": [
    "Video(\"motion-prediction-video.mp4\", width=400, height=400)"
   ]
  },
  {
   "cell_type": "markdown",
   "id": "e38511b1",
   "metadata": {},
   "source": [
    "## Соревнование https://research.yandex.com/shifts/vehicle-motion-prediction\n",
    "\n",
    "Трек по предсказанию траекторий движения автомобилей. Соревнование в целом посвящено исследованию подходов к оценке неопределенности и устойчивости моделей к сдвигам во входных данных.\n",
    "\n",
    "![Ансамбль моделей](uncertainty.jpeg)"
   ]
  },
  {
   "cell_type": "markdown",
   "id": "2cb39ade",
   "metadata": {},
   "source": [
    "## Что представляют из себя данные\n",
    "\n",
    "Единицей данных в датасете является сцена. Сцена содержит в себе информацию о динамических объектах (автомобилях и пешеходах), векторную карту дорожного графа, состояния светофоров, теги для сцены и отдельных агентов.\n",
    "\n",
    "Данные в сцене разбиты на две зоны: прошлое и будущее. Для каждого автомобиля нам известны следующие параметры:\n",
    "- уникальный идентификатор\n",
    "- положение в глобальной системе координат\n",
    "- размеры\n",
    "- скорость\n",
    "- ускорение\n",
    "\n",
    "Аналогичные данные известны для самого беспилотника. Для пешехедов данные ограничиваются id, положением, размером и скоростью.\n",
    "\n",
    "Дорожный граф содержит в себе информацию о полосах, полигон дороги, полигоны пешеходных переходов.\n",
    "\n",
    "Ссылка на тест сет, с которым поработаем на семинаре: https://disk.yandex.ru/d/M_4ED0r19OnSrg"
   ]
  },
  {
   "cell_type": "markdown",
   "id": "2b70e9f5",
   "metadata": {},
   "source": [
    "## API для работы с датасетом"
   ]
  },
  {
   "cell_type": "markdown",
   "id": "56f6b7d3",
   "metadata": {},
   "source": [
    "Рекомендую установить в virtualenv, чтобы не ставить лишние пакеты в хостовую систему.\n",
    "```\n",
    "git clone git@github.com:yandex-research/shifts.git\n",
    "cd shifts/sdc\n",
    "pip install .\n",
    "```"
   ]
  },
  {
   "cell_type": "markdown",
   "id": "6908385e",
   "metadata": {},
   "source": [
    "## Посмотрим на данные\n",
    "\n",
    "Исходные сырые данные хранятся в формате protubuf (https://developers.google.com/protocol-buffers), он позволяет удобно хранить и рабоать со структурированными объектами."
   ]
  },
  {
   "cell_type": "code",
   "execution_count": 6,
   "id": "2243eca4",
   "metadata": {},
   "outputs": [
    {
     "name": "stderr",
     "output_type": "stream",
     "text": [
      "/home/techtoker/tools/anaconda3/envs/yandex_sdc/lib/python3.8/site-packages/ysdc_dataset_api/utils/transform.py:90: NumbaPerformanceWarning: '@' is faster on contiguous arrays, called on (array(float32, 2d, A), array(float32, 2d, C))\n",
      "  res = transform @ ph\n",
      "/home/techtoker/tools/anaconda3/envs/yandex_sdc/lib/python3.8/site-packages/numba/core/typing/npydecl.py:913: NumbaPerformanceWarning: '@' is faster on contiguous arrays, called on (array(float32, 2d, A), array(float32, 2d, C))\n",
      "  warnings.warn(NumbaPerformanceWarning(msg))\n"
     ]
    }
   ],
   "source": [
    "from ysdc_dataset_api.utils import read_scene_from_file"
   ]
  },
  {
   "cell_type": "code",
   "execution_count": 7,
   "id": "b458d6be",
   "metadata": {},
   "outputs": [
    {
     "ename": "FileNotFoundError",
     "evalue": "[Errno 2] No such file or directory: '../datasets/canonical-eval-data/011/011000.pb'",
     "output_type": "error",
     "traceback": [
      "\u001B[0;31m---------------------------------------------------------------------------\u001B[0m",
      "\u001B[0;31mFileNotFoundError\u001B[0m                         Traceback (most recent call last)",
      "Cell \u001B[0;32mIn[7], line 1\u001B[0m\n\u001B[0;32m----> 1\u001B[0m scene \u001B[38;5;241m=\u001B[39m \u001B[43mread_scene_from_file\u001B[49m\u001B[43m(\u001B[49m\u001B[38;5;124;43m'\u001B[39;49m\u001B[38;5;124;43m../datasets/canonical-eval-data/011/011000.pb\u001B[39;49m\u001B[38;5;124;43m'\u001B[39;49m\u001B[43m)\u001B[49m\n",
      "File \u001B[0;32m~/tools/anaconda3/envs/yandex_sdc/lib/python3.8/site-packages/ysdc_dataset_api/utils/reading.py:80\u001B[0m, in \u001B[0;36mread_scene_from_file\u001B[0;34m(filepath)\u001B[0m\n\u001B[1;32m     71\u001B[0m \u001B[38;5;28;01mdef\u001B[39;00m \u001B[38;5;21mread_scene_from_file\u001B[39m(filepath: \u001B[38;5;28mstr\u001B[39m) \u001B[38;5;241m-\u001B[39m\u001B[38;5;241m>\u001B[39m Scene:\n\u001B[1;32m     72\u001B[0m \u001B[38;5;250m    \u001B[39m\u001B[38;5;124;03m\"\"\"Reads and deserializes one protobuf scene from the given file.\u001B[39;00m\n\u001B[1;32m     73\u001B[0m \n\u001B[1;32m     74\u001B[0m \u001B[38;5;124;03m    Args:\u001B[39;00m\n\u001B[0;32m   (...)\u001B[0m\n\u001B[1;32m     78\u001B[0m \u001B[38;5;124;03m        Scene: protobuf message\u001B[39;00m\n\u001B[1;32m     79\u001B[0m \u001B[38;5;124;03m    \"\"\"\u001B[39;00m\n\u001B[0;32m---> 80\u001B[0m     \u001B[38;5;28;01mwith\u001B[39;00m \u001B[38;5;28;43mopen\u001B[39;49m\u001B[43m(\u001B[49m\u001B[43mfilepath\u001B[49m\u001B[43m,\u001B[49m\u001B[43m \u001B[49m\u001B[38;5;124;43m'\u001B[39;49m\u001B[38;5;124;43mrb\u001B[39;49m\u001B[38;5;124;43m'\u001B[39;49m\u001B[43m)\u001B[49m \u001B[38;5;28;01mas\u001B[39;00m f:\n\u001B[1;32m     81\u001B[0m         scene_serialized \u001B[38;5;241m=\u001B[39m f\u001B[38;5;241m.\u001B[39mread()\n\u001B[1;32m     82\u001B[0m     scene \u001B[38;5;241m=\u001B[39m Scene()\n",
      "\u001B[0;31mFileNotFoundError\u001B[0m: [Errno 2] No such file or directory: '../datasets/canonical-eval-data/011/011000.pb'"
     ]
    }
   ],
   "source": [
    "scene = read_scene_from_file('../datasets/canonical-eval-data/011/011000.pb')"
   ]
  },
  {
   "cell_type": "code",
   "execution_count": null,
   "outputs": [],
   "source": [
    "scene.path_graph"
   ],
   "metadata": {
    "collapsed": false
   }
  },
  {
   "cell_type": "code",
   "execution_count": 8,
   "id": "2c49ed6a",
   "metadata": {},
   "outputs": [
    {
     "ename": "NameError",
     "evalue": "name 'scene' is not defined",
     "output_type": "error",
     "traceback": [
      "\u001B[0;31m---------------------------------------------------------------------------\u001B[0m",
      "\u001B[0;31mNameError\u001B[0m                                 Traceback (most recent call last)",
      "Cell \u001B[0;32mIn[8], line 1\u001B[0m\n\u001B[0;32m----> 1\u001B[0m \u001B[38;5;28mprint\u001B[39m(\u001B[38;5;124mf\u001B[39m\u001B[38;5;124m'\u001B[39m\u001B[38;5;124mТип объекта: \u001B[39m\u001B[38;5;132;01m{\u001B[39;00m\u001B[38;5;28mtype\u001B[39m(scene)\u001B[38;5;132;01m}\u001B[39;00m\u001B[38;5;124m'\u001B[39m)\n\u001B[1;32m      2\u001B[0m \u001B[38;5;28mprint\u001B[39m(\u001B[38;5;124mf\u001B[39m\u001B[38;5;124m'\u001B[39m\u001B[38;5;124mПоля объекта: \u001B[39m\u001B[38;5;132;01m{\u001B[39;00m[field\u001B[38;5;250m \u001B[39m\u001B[38;5;28;01mfor\u001B[39;00m\u001B[38;5;250m \u001B[39mfield\u001B[38;5;250m \u001B[39m\u001B[38;5;129;01min\u001B[39;00m\u001B[38;5;250m \u001B[39m\u001B[38;5;28mdir\u001B[39m(scene)\u001B[38;5;250m \u001B[39m\u001B[38;5;28;01mif\u001B[39;00m\u001B[38;5;250m \u001B[39m\u001B[38;5;129;01mnot\u001B[39;00m\u001B[38;5;250m \u001B[39mfield\u001B[38;5;241m.\u001B[39mstartswith(\u001B[38;5;124m\"\u001B[39m\u001B[38;5;124m_\u001B[39m\u001B[38;5;124m\"\u001B[39m)\u001B[38;5;250m \u001B[39m\u001B[38;5;129;01mand\u001B[39;00m\u001B[38;5;250m \u001B[39mfield\u001B[38;5;241m.\u001B[39mislower()]\u001B[38;5;132;01m}\u001B[39;00m\u001B[38;5;124m'\u001B[39m)\n",
      "\u001B[0;31mNameError\u001B[0m: name 'scene' is not defined"
     ]
    }
   ],
   "source": [
    "print(f'Тип объекта: {type(scene)}')\n",
    "print(f'Поля объекта: {[field for field in dir(scene) if not field.startswith(\"_\") and field.islower()]}')"
   ]
  },
  {
   "cell_type": "markdown",
   "id": "7c69acc7",
   "metadata": {},
   "source": [
    "Каждая сцена содержит в себе данные о прошлом и будущем на 5 секунд (всего 10 секунд). Это время разбито на 50 дискретных таймстемпов с частотой  5Hz."
   ]
  },
  {
   "cell_type": "code",
   "execution_count": 9,
   "id": "7bd706f9",
   "metadata": {},
   "outputs": [
    {
     "ename": "NameError",
     "evalue": "name 'scene' is not defined",
     "output_type": "error",
     "traceback": [
      "\u001B[0;31m---------------------------------------------------------------------------\u001B[0m",
      "\u001B[0;31mNameError\u001B[0m                                 Traceback (most recent call last)",
      "Cell \u001B[0;32mIn[9], line 1\u001B[0m\n\u001B[0;32m----> 1\u001B[0m \u001B[38;5;28mprint\u001B[39m(\u001B[38;5;124mf\u001B[39m\u001B[38;5;124m'\u001B[39m\u001B[38;5;124mГоризонт прошлого: \u001B[39m\u001B[38;5;132;01m{\u001B[39;00m\u001B[38;5;28mlen\u001B[39m(scene\u001B[38;5;241m.\u001B[39mpast_vehicle_tracks)\u001B[38;5;132;01m}\u001B[39;00m\u001B[38;5;124m, горизонт будущего: \u001B[39m\u001B[38;5;132;01m{\u001B[39;00m\u001B[38;5;28mlen\u001B[39m(scene\u001B[38;5;241m.\u001B[39mfuture_vehicle_tracks)\u001B[38;5;132;01m}\u001B[39;00m\u001B[38;5;124m'\u001B[39m)\n",
      "\u001B[0;31mNameError\u001B[0m: name 'scene' is not defined"
     ]
    }
   ],
   "source": [
    "print(f'Горизонт прошлого: {len(scene.past_vehicle_tracks)}, горизонт будущего: {len(scene.future_vehicle_tracks)}')"
   ]
  },
  {
   "cell_type": "markdown",
   "id": "ab27433c",
   "metadata": {},
   "source": [
    "Индекс 0 в past_tracks соответсвтует -5 секундам в истории, индекс 24 -- нулевая секунда, момент предсказния."
   ]
  },
  {
   "cell_type": "code",
   "execution_count": 11,
   "id": "6c30f5e5",
   "metadata": {},
   "outputs": [
    {
     "name": "stdout",
     "output_type": "stream",
     "text": [
      "Количество машин в момент предсказания: 17\n",
      "Информация об одной из машин в момент предсказания:\n",
      "track_id: 34169\n",
      "position {\n",
      "  x: 3528.887235455813\n",
      "  y: -1845.6880594767722\n",
      "  z: 0.8689320729550655\n",
      "}\n",
      "dimensions {\n",
      "  x: 4.390752201556174\n",
      "  y: 2.0034280269183236\n",
      "  z: 1.7411829130317864\n",
      "}\n",
      "linear_velocity {\n",
      "  x: 0.08383738883850562\n",
      "  y: -0.03237506137534246\n",
      "}\n",
      "linear_acceleration {\n",
      "  x: 0.14328786721880105\n",
      "  y: -0.023524992679709048\n",
      "}\n",
      "yaw: -0.20406750287213143\n",
      "\n"
     ]
    }
   ],
   "source": [
    "print(f'Количество машин в момент предсказания: {len(scene.past_vehicle_tracks[-1].tracks)}')\n",
    "print('Информация об одной из машин в момент предсказания:')\n",
    "print(scene.past_vehicle_tracks[-1].tracks[0])"
   ]
  },
  {
   "cell_type": "markdown",
   "id": "626d0eef",
   "metadata": {},
   "source": [
    "В сцене есть поле `prediction_requests` содержащее id автомобилей, для которых необходимо сделать предсказание. Помимо этого реквесты помечены тегами, описывающими характер движения автомобиля. Полный список тегов можно найти в файле `tags.proto` [ссылка](https://github.com/yandex-research/shifts/blob/main/sdc/ysdc_dataset_api/proto/tags.proto)"
   ]
  },
  {
   "cell_type": "code",
   "execution_count": 12,
   "id": "fa197c92",
   "metadata": {},
   "outputs": [
    {
     "name": "stdout",
     "output_type": "stream",
     "text": [
      "track_id: 34169\n",
      "trajectory_tags: kStationary\n",
      "trajectory_tags: kUniform\n",
      "\n"
     ]
    }
   ],
   "source": [
    "for r in scene.prediction_requests:\n",
    "    if r.track_id == scene.past_vehicle_tracks[-1].tracks[0].track_id:\n",
    "        print(r)"
   ]
  },
  {
   "cell_type": "markdown",
   "id": "9fb70c73",
   "metadata": {},
   "source": [
    "Тэги есть так же и у сцен. Они описывают различные срезы данных, по которым проходило разбиение в соревновании."
   ]
  },
  {
   "cell_type": "code",
   "execution_count": 13,
   "id": "f5516a23",
   "metadata": {},
   "outputs": [
    {
     "name": "stdout",
     "output_type": "stream",
     "text": [
      "day_time: kAfternoon\n",
      "season: kAutumn\n",
      "track: Moscow\n",
      "sun_phase: kDaylight\n",
      "precipitation: kNoPrecipitation\n",
      "\n"
     ]
    }
   ],
   "source": [
    "print(scene.scene_tags)"
   ]
  },
  {
   "cell_type": "markdown",
   "id": "5f25da3e",
   "metadata": {},
   "source": [
    "Давайте нарисуем уже сцену и посмотрим, как оно выглядит не в скучных числах."
   ]
  },
  {
   "cell_type": "code",
   "execution_count": 147,
   "id": "8bfa84d5",
   "metadata": {},
   "outputs": [],
   "source": [
    "import matplotlib.pyplot as plt\n",
    "import numpy as np\n",
    "import yaml\n",
    "from matplotlib import collections as mc\n",
    "\n",
    "from ysdc_dataset_api.dataset import MotionPredictionDataset\n",
    "from ysdc_dataset_api.features import FeatureRenderer\n",
    "from ysdc_dataset_api.utils import transform_2d_points"
   ]
  },
  {
   "cell_type": "code",
   "execution_count": 148,
   "id": "6091fe83",
   "metadata": {},
   "outputs": [],
   "source": [
    "with open('renderer_config.yaml') as f:\n",
    "    renderer_config = yaml.safe_load(f)"
   ]
  },
  {
   "cell_type": "code",
   "execution_count": 149,
   "id": "cde21bf8",
   "metadata": {},
   "outputs": [
    {
     "name": "stdout",
     "output_type": "stream",
     "text": [
      "/home/techtoker/tools/anaconda3/envs/yandex_sdc/lib/python3.8/site-packages/ysdc_dataset_api/features/__init__.py\n"
     ]
    }
   ],
   "source": [
    "import ysdc_dataset_api.features\n",
    "\n",
    "print(ysdc_dataset_api.features.__file__)"
   ]
  },
  {
   "cell_type": "code",
   "execution_count": 150,
   "id": "6995c165",
   "metadata": {},
   "outputs": [],
   "source": [
    "renderer = FeatureRenderer(renderer_config)"
   ]
  },
  {
   "cell_type": "code",
   "execution_count": 151,
   "id": "d2acea29",
   "metadata": {},
   "outputs": [],
   "source": [
    "dataset_path = '../dataset/development_pb/'"
   ]
  },
  {
   "cell_type": "code",
   "execution_count": 152,
   "id": "0721d8d1",
   "metadata": {},
   "outputs": [],
   "source": [
    "dataset = MotionPredictionDataset(\n",
    "    dataset_path=dataset_path,\n",
    "    feature_producers=[renderer],\n",
    "    transform_ground_truth_to_agent_frame=True)"
   ]
  },
  {
   "cell_type": "code",
   "execution_count": 153,
   "id": "bfa0e02b",
   "metadata": {},
   "outputs": [
    {
     "name": "stdout",
     "output_type": "stream",
     "text": [
      "Количество сцен в датасете: 36605\n"
     ]
    }
   ],
   "source": [
    "print(f'Количество сцен в датасете: {dataset.num_scenes}')"
   ]
  },
  {
   "cell_type": "code",
   "execution_count": 154,
   "id": "738eda18",
   "metadata": {},
   "outputs": [],
   "source": [
    "# dataset_iter = iter(dataset)\n",
    "#\n",
    "# # Проитерируемся по датасету в поисках машины, проехавшей более 2 метров по одной из координат.\n",
    "# while True:\n",
    "#     data_item = next(dataset_iter)\n",
    "#     if data_item['ground_truth_trajectory'][-1, 0] > 2.0 or data_item['ground_truth_trajectory'][-1, 1] > 2.0:\n",
    "#\n",
    "#         if data_item['scene_tags']['track'] == 'Innopolis':\n",
    "#             # print(data_item)\n",
    "#\n",
    "#             break"
   ]
  },
  {
   "cell_type": "code",
   "execution_count": 155,
   "outputs": [],
   "source": [
    "# idx = 0\n",
    "# real_idx = 0\n",
    "#\n",
    "# dataset_iter = iter(dataset)\n",
    "#\n",
    "# while True:\n",
    "#     data_item = next(dataset_iter)\n",
    "#     real_idx += 1\n",
    "#\n",
    "#     if data_item['scene_tags']['track'] == 'Innopolis':\n",
    "#         idx += 1\n",
    "#\n",
    "#         # if idx < 370:\n",
    "#         #     continue\n",
    "#         #\n",
    "#         # if idx > 400:\n",
    "#         #     break\n",
    "#\n",
    "#         # Plot vehicles occupancy, pedestrian occupancy, lane occupancy and road polygon\n",
    "#         plt.figure(figsize=(10, 10))\n",
    "#         plt.imshow(data_item['feature_maps'][0], origin='lower', cmap='binary', alpha=0.7)\n",
    "#         plt.imshow(data_item['feature_maps'][6], origin='lower', cmap='binary', alpha=0.5)\n",
    "#         plt.imshow(data_item['feature_maps'][13], origin='lower', cmap='binary', alpha=0.2)\n",
    "#         plt.imshow(data_item['feature_maps'][16], origin='lower', cmap='binary', alpha=0.1)\n",
    "#\n",
    "#         # Переведем ground truth траекторию агента в систему координат фичемапы\n",
    "#         transformed_gt = transform_2d_points(data_item['ground_truth_trajectory'], renderer.to_feature_map_tf)\n",
    "#         transformed_gt = np.round(transformed_gt - 0.5).astype(np.int32)\n",
    "#\n",
    "#         ax = plt.gca()\n",
    "#         ax.add_collection(mc.LineCollection([transformed_gt], color='green'))\n",
    "#         plt.savefig(f'./samples/res_{idx}.png')\n",
    "#\n",
    "#     print(real_idx)"
   ],
   "metadata": {
    "collapsed": false
   }
  },
  {
   "cell_type": "code",
   "execution_count": 156,
   "id": "3baa1fa0",
   "metadata": {},
   "outputs": [
    {
     "name": "stdout",
     "output_type": "stream",
     "text": [
      "1\n",
      "2\n"
     ]
    }
   ],
   "source": [
    "innopolis_scenes = []\n",
    "\n",
    "#dataset_iter = iter(dataset)\n",
    "\n",
    "for d_item in dataset:\n",
    "\n",
    "    if d_item['ground_truth_trajectory'][-1, 0] > 2.0 or d_item['ground_truth_trajectory'][-1, 1] > 2.0:\n",
    "\n",
    "        if d_item['scene_id'] == 'abbfe977229cd8f605de977495eee9f4':\n",
    "        #if d_item['scene_tags']['track'] == 'Innopolis':\n",
    "            innopolis_scenes.append(d_item)\n",
    "\n",
    "            print(len(innopolis_scenes))\n",
    "\n",
    "            if len(innopolis_scenes) == 2:\n",
    "                break"
   ]
  },
  {
   "cell_type": "code",
   "execution_count": 157,
   "id": "4d876286",
   "metadata": {},
   "outputs": [],
   "source": [
    "len(innopolis_scenes)\n",
    "data_item = innopolis_scenes[0]"
   ]
  },
  {
   "cell_type": "code",
   "execution_count": 158,
   "id": "a8ea99df",
   "metadata": {},
   "outputs": [],
   "source": [
    "#data_item = dataset[0] #innopolis_scenes[44]"
   ]
  },
  {
   "cell_type": "code",
   "execution_count": 159,
   "id": "d5bb08a1",
   "metadata": {},
   "outputs": [
    {
     "name": "stdout",
     "output_type": "stream",
     "text": [
      "Датасет для каждого объекта возвращает набор следующих полей: ['scene_id', 'track_id', 'scene_tags', 'ground_truth_trajectory', 'feature_maps']\n"
     ]
    }
   ],
   "source": [
    "print(f'Датасет для каждого объекта возвращает набор следующих полей: {[k for k in data_item.keys()]}')"
   ]
  },
  {
   "cell_type": "code",
   "execution_count": 160,
   "id": "2087dedf",
   "metadata": {},
   "outputs": [
    {
     "name": "stdout",
     "output_type": "stream",
     "text": [
      "Размеры фичемап, которые нам отдал рендерер: (17, 128, 128)\n"
     ]
    }
   ],
   "source": [
    "print(f'Размеры фичемап, которые нам отдал рендерер: {data_item[\"feature_maps\"].shape}')"
   ]
  },
  {
   "cell_type": "code",
   "execution_count": 161,
   "id": "774ec110",
   "metadata": {},
   "outputs": [
    {
     "data": {
      "text/plain": "<Figure size 1000x1000 with 1 Axes>",
      "image/png": "[encoded data removed]"
     },
     "metadata": {},
     "output_type": "display_data"
    }
   ],
   "source": [
    "# Plot vehicles occupancy, pedestrian occupancy, lane occupancy and road polygon\n",
    "plt.figure(figsize=(10, 10))\n",
    "plt.imshow(data_item['feature_maps'][0], origin='lower', cmap='binary', alpha=0.7)\n",
    "plt.imshow(data_item['feature_maps'][6], origin='lower', cmap='binary', alpha=0.5)\n",
    "plt.imshow(data_item['feature_maps'][13], origin='lower', cmap='binary', alpha=0.2)\n",
    "plt.imshow(data_item['feature_maps'][16], origin='lower', cmap='binary', alpha=0.1)\n",
    "\n",
    "# Переведем ground truth траекторию агента в систему координат фичемапы\n",
    "transformed_gt = transform_2d_points(data_item['ground_truth_trajectory'], renderer.to_feature_map_tf)\n",
    "transformed_gt = np.round(transformed_gt - 0.5).astype(np.int32)\n",
    "\n",
    "ax = plt.gca()\n",
    "ax.add_collection(mc.LineCollection([transformed_gt], color='green'))\n",
    "plt.savefig('res.png')"
   ]
  },
  {
   "cell_type": "code",
   "execution_count": 116,
   "outputs": [
    {
     "data": {
      "text/plain": "array([[252, 249],\n       [254, 249],\n       [257, 249],\n       [259, 249],\n       [261, 249],\n       [263, 249],\n       [265, 249],\n       [267, 249],\n       [270, 249],\n       [272, 249],\n       [274, 249],\n       [276, 249],\n       [278, 249],\n       [280, 249],\n       [283, 249],\n       [286, 248],\n       [289, 248],\n       [292, 248],\n       [296, 248],\n       [299, 248],\n       [303, 247],\n       [307, 247],\n       [311, 247],\n       [316, 246],\n       [320, 246]], dtype=int32)"
     },
     "execution_count": 116,
     "metadata": {},
     "output_type": "execute_result"
    }
   ],
   "source": [
    "transformed_gt"
   ],
   "metadata": {
    "collapsed": false
   }
  },
  {
   "cell_type": "markdown",
   "id": "732fe5db",
   "metadata": {},
   "source": [
    "## Метрики\n",
    "\n",
    "Одними из общепринятых метрик для оценки качества предсказания траекторий являются Average Displacement Error и Final Displacement Error, а так же их модификации minADE@k, minFDE@k:\n",
    "- ADE - среднее по таймстемпам L2 отклонеие предсказания от ground truth\n",
    "- FDE - L2 отклонение последней предсказанной точки траектории от ground truth\n",
    "- minADE@k -- минимальное значение ADE по k наиболее вероятных предсказанных гипотез\n",
    "- minFDE@k -- минимальное значение FDE по k наиболее вероятных предсказанных гипотез"
   ]
  },
  {
   "cell_type": "code",
   "execution_count": null,
   "id": "425ca910",
   "metadata": {},
   "outputs": [],
   "source": [
    "def ade(y_true, y_pred):\n",
    "    \"\"\"\n",
    "    Insert your code for ADE computation below.\n",
    "    \n",
    "    Args:\n",
    "        y_true (np.ndarray): shape (batch, n_timestamps, 2)\n",
    "        y_pred (np.ndarray): shape (batch, n_timestamps, 2)\n",
    "\n",
    "    Returns:\n",
    "        np.ndarray: shape (batch, 1)\n",
    "    \"\"\""
   ]
  },
  {
   "cell_type": "code",
   "execution_count": null,
   "id": "938e4353",
   "metadata": {},
   "outputs": [],
   "source": [
    "def fde(y_true, y_pred):\n",
    "    \"\"\"\n",
    "    Insert your code for FDE computation below.\n",
    "    \n",
    "    Args:\n",
    "        y_true (np.ndarray): shape (batch, n_timestamps, 2)\n",
    "        y_pred (np.ndarray): shape (batch, n_timestamps, 2)\n",
    "\n",
    "    Returns:\n",
    "        np.ndarray: shape (batch, 1)\n",
    "    \"\"\""
   ]
  },
  {
   "cell_type": "code",
   "execution_count": null,
   "id": "17b73715",
   "metadata": {},
   "outputs": [],
   "source": [
    "def min_ade(y_true, y_pred):\n",
    "    \"\"\"\n",
    "    Insert your code for minADE computation below.\n",
    "    \n",
    "    Args:\n",
    "        y_true (np.ndarray): shape (batch, n_timestamps, 2)\n",
    "        y_pred (np.ndarray): shape (batch, n_modes, n_timestamps, 2)\n",
    "\n",
    "    Returns:\n",
    "        np.ndarray: shape (batch, 1)\n",
    "    \"\"\""
   ]
  },
  {
   "cell_type": "code",
   "execution_count": null,
   "id": "6d4b780a",
   "metadata": {},
   "outputs": [],
   "source": [
    "def min_fde(y_true, y_pred):\n",
    "    \"\"\"\n",
    "    Insert your code for minFDE computation below.\n",
    "    \n",
    "    Args:\n",
    "        y_true (np.ndarray): shape (batch, n_timestamps, 2)\n",
    "        y_pred (np.ndarray): shape (batch, n_modes, n_timestamps, 2)\n",
    "\n",
    "    Returns:\n",
    "        np.ndarray: shape (batch, 1)\n",
    "    \"\"\""
   ]
  },
  {
   "cell_type": "markdown",
   "id": "c40cc8cd",
   "metadata": {},
   "source": [
    "## Модель с константным предсказанием"
   ]
  },
  {
   "cell_type": "code",
   "execution_count": 144,
   "id": "3b90685f",
   "metadata": {},
   "outputs": [],
   "source": [
    "import torch\n",
    "import tqdm\n",
    "\n",
    "from ysdc_dataset_api.features import FeatureVectorizer"
   ]
  },
  {
   "cell_type": "code",
   "execution_count": 145,
   "id": "12b30f74",
   "metadata": {},
   "outputs": [],
   "source": [
    "class BaselineModel(torch.nn.Module):\n",
    "    def __init__(self, gt_time_grid):\n",
    "        super().__init__()\n",
    "        self._gt_time_grid = torch.tensor(gt_time_grid)\n",
    "    \n",
    "    def forward(self, velocity):\n",
    "        states = torch.einsum('bc,t->btc', velocity, self._gt_time_grid)\n",
    "        return states"
   ]
  },
  {
   "cell_type": "code",
   "execution_count": 146,
   "id": "136c755a",
   "metadata": {},
   "outputs": [],
   "source": [
    "model = BaselineModel(np.linspace(0.2, 5, 25))"
   ]
  },
  {
   "cell_type": "code",
   "execution_count": 148,
   "id": "5d851c49",
   "metadata": {},
   "outputs": [],
   "source": [
    "with open('vectorizer_config.yaml') as f:\n",
    "    vectorizer_config = yaml.safe_load(f)\n",
    "vectorizer = FeatureVectorizer(vectorizer_config)\n",
    "\n",
    "dataset = MotionPredictionDataset(\n",
    "    dataset_path='./test/',\n",
    "    prerendered_dataset_path='./test/',\n",
    "    feature_producers=[vectorizer],\n",
    "    transform_ground_truth_to_agent_frame=True,\n",
    ")"
   ]
  },
  {
   "cell_type": "code",
   "execution_count": 149,
   "id": "11f2fc18",
   "metadata": {},
   "outputs": [],
   "source": [
    "dataloader = torch.utils.data.DataLoader(\n",
    "    dataset,\n",
    "    batch_size=32,\n",
    "    num_workers=8,\n",
    ")"
   ]
  },
  {
   "cell_type": "code",
   "execution_count": 150,
   "id": "1cf563ec",
   "metadata": {},
   "outputs": [
    {
     "name": "stderr",
     "output_type": "stream",
     "text": [
      "0it [00:00, ?it/s]Exception ignored in: <function _MultiProcessingDataLoaderIter.__del__ at 0x0000021FFEC19160>\n",
      "Traceback (most recent call last):\n",
      "  File \"C:\\Users\\impor\\.anaconda3\\envs\\yandex_sdc\\lib\\site-packages\\torch\\utils\\data\\dataloader.py\", line 1466, in __del__\n",
      "    self._shutdown_workers()\n",
      "  File \"C:\\Users\\impor\\.anaconda3\\envs\\yandex_sdc\\lib\\site-packages\\torch\\utils\\data\\dataloader.py\", line 1430, in _shutdown_workers\n",
      "    w.join(timeout=_utils.MP_STATUS_CHECK_INTERVAL)\n",
      "  File \"C:\\Users\\impor\\.anaconda3\\envs\\yandex_sdc\\lib\\multiprocessing\\process.py\", line 149, in join\n",
      "    res = self._popen.wait(timeout)\n",
      "  File \"C:\\Users\\impor\\.anaconda3\\envs\\yandex_sdc\\lib\\multiprocessing\\popen_spawn_win32.py\", line 108, in wait\n",
      "    res = _winapi.WaitForSingleObject(int(self._handle), msecs)\n",
      "KeyboardInterrupt: \n",
      "0it [00:21, ?it/s]\n"
     ]
    },
    {
     "ename": "NameError",
     "evalue": "name 'ade' is not defined",
     "output_type": "error",
     "traceback": [
      "\u001B[1;31m---------------------------------------------------------------------------\u001B[0m",
      "\u001B[1;31mNameError\u001B[0m                                 Traceback (most recent call last)",
      "Cell \u001B[1;32mIn[150], line 6\u001B[0m\n\u001B[0;32m      3\u001B[0m \u001B[38;5;28;01mfor\u001B[39;00m batch \u001B[38;5;129;01min\u001B[39;00m tqdm\u001B[38;5;241m.\u001B[39mtqdm(dataloader):\n\u001B[0;32m      4\u001B[0m     \u001B[38;5;66;03m# Возьмём скорость по (x, y) в последний известный момент времени\u001B[39;00m\n\u001B[0;32m      5\u001B[0m     predictions \u001B[38;5;241m=\u001B[39m model(batch[\u001B[38;5;124m'\u001B[39m\u001B[38;5;124mvector_features\u001B[39m\u001B[38;5;124m'\u001B[39m][:, \u001B[38;5;241m-\u001B[39m\u001B[38;5;241m1\u001B[39m, \u001B[38;5;241m2\u001B[39m:\u001B[38;5;241m4\u001B[39m])\n\u001B[1;32m----> 6\u001B[0m     ades\u001B[38;5;241m.\u001B[39mappend(\u001B[43made\u001B[49m(batch[\u001B[38;5;124m'\u001B[39m\u001B[38;5;124mground_truth_trajectory\u001B[39m\u001B[38;5;124m'\u001B[39m], predictions))\n\u001B[0;32m      7\u001B[0m     fdes\u001B[38;5;241m.\u001B[39mappend(fde(batch[\u001B[38;5;124m'\u001B[39m\u001B[38;5;124mground_truth_trajectory\u001B[39m\u001B[38;5;124m'\u001B[39m], predictions))\n",
      "\u001B[1;31mNameError\u001B[0m: name 'ade' is not defined"
     ]
    }
   ],
   "source": [
    "ades = []\n",
    "fdes = []\n",
    "for batch in tqdm.tqdm(dataloader):\n",
    "    # Возьмём скорость по (x, y) в последний известный момент времени\n",
    "    predictions = model(batch['vector_features'][:, -1, 2:4])\n",
    "    ades.append(ade(batch['ground_truth_trajectory'], predictions))\n",
    "    fdes.append(fde(batch['ground_truth_trajectory'], predictions))"
   ]
  },
  {
   "cell_type": "code",
   "execution_count": null,
   "id": "a1a2a013",
   "metadata": {},
   "outputs": [],
   "source": [
    "np.mean(np.concatenate(ades)), np.mean(np.concatenate(fdes))"
   ]
  },
  {
   "cell_type": "markdown",
   "id": "ca7546a6",
   "metadata": {},
   "source": [
    "## Визуализация предсказаний"
   ]
  },
  {
   "cell_type": "code",
   "execution_count": 12,
   "id": "abeffe69",
   "metadata": {},
   "outputs": [
    {
     "ename": "NameError",
     "evalue": "name 'batch' is not defined",
     "output_type": "error",
     "traceback": [
      "\u001B[0;31m---------------------------------------------------------------------------\u001B[0m",
      "\u001B[0;31mNameError\u001B[0m                                 Traceback (most recent call last)",
      "Cell \u001B[0;32mIn[12], line 11\u001B[0m\n\u001B[1;32m      9\u001B[0m i \u001B[38;5;241m=\u001B[39m \u001B[38;5;241m1\u001B[39m\n\u001B[1;32m     10\u001B[0m plt\u001B[38;5;241m.\u001B[39mfigure(figsize\u001B[38;5;241m=\u001B[39m(\u001B[38;5;241m10\u001B[39m, \u001B[38;5;241m10\u001B[39m))\n\u001B[0;32m---> 11\u001B[0m plt\u001B[38;5;241m.\u001B[39mimshow(\u001B[43mbatch\u001B[49m[\u001B[38;5;124m'\u001B[39m\u001B[38;5;124mprerendered_feature_map\u001B[39m\u001B[38;5;124m'\u001B[39m][i][\u001B[38;5;241m0\u001B[39m], origin\u001B[38;5;241m=\u001B[39m\u001B[38;5;124m'\u001B[39m\u001B[38;5;124mlower\u001B[39m\u001B[38;5;124m'\u001B[39m, cmap\u001B[38;5;241m=\u001B[39m\u001B[38;5;124m'\u001B[39m\u001B[38;5;124mbinary\u001B[39m\u001B[38;5;124m'\u001B[39m, alpha\u001B[38;5;241m=\u001B[39m\u001B[38;5;241m0.7\u001B[39m)\n\u001B[1;32m     12\u001B[0m plt\u001B[38;5;241m.\u001B[39mimshow(batch[\u001B[38;5;124m'\u001B[39m\u001B[38;5;124mprerendered_feature_map\u001B[39m\u001B[38;5;124m'\u001B[39m][i][\u001B[38;5;241m6\u001B[39m], origin\u001B[38;5;241m=\u001B[39m\u001B[38;5;124m'\u001B[39m\u001B[38;5;124mlower\u001B[39m\u001B[38;5;124m'\u001B[39m, cmap\u001B[38;5;241m=\u001B[39m\u001B[38;5;124m'\u001B[39m\u001B[38;5;124mbinary\u001B[39m\u001B[38;5;124m'\u001B[39m, alpha\u001B[38;5;241m=\u001B[39m\u001B[38;5;241m0.5\u001B[39m)\n\u001B[1;32m     13\u001B[0m plt\u001B[38;5;241m.\u001B[39mimshow(batch[\u001B[38;5;124m'\u001B[39m\u001B[38;5;124mprerendered_feature_map\u001B[39m\u001B[38;5;124m'\u001B[39m][i][\u001B[38;5;241m13\u001B[39m], origin\u001B[38;5;241m=\u001B[39m\u001B[38;5;124m'\u001B[39m\u001B[38;5;124mlower\u001B[39m\u001B[38;5;124m'\u001B[39m, cmap\u001B[38;5;241m=\u001B[39m\u001B[38;5;124m'\u001B[39m\u001B[38;5;124mbinary\u001B[39m\u001B[38;5;124m'\u001B[39m, alpha\u001B[38;5;241m=\u001B[39m\u001B[38;5;241m0.2\u001B[39m)\n",
      "\u001B[0;31mNameError\u001B[0m: name 'batch' is not defined"
     ]
    },
    {
     "data": {
      "text/plain": "<Figure size 1000x1000 with 0 Axes>"
     },
     "metadata": {},
     "output_type": "display_data"
    }
   ],
   "source": [
    "# Тк в датасете выше мы использовали готовые пре-рендеренные картинки (см prerendered_dataset_path),\n",
    "# сделаем себе соответсвующий рендерер, чтобы извлечь из него трансформ для визуализации.\n",
    "with open('prerendered_images_config.yaml') as f:\n",
    "    renderer_config = yaml.safe_load(f)\n",
    "renderer = FeatureRenderer(renderer_config)\n",
    "\n",
    "\n",
    "# Plot vehicles occupancy, pedestrian occupancy, lane occupancy and road polygon\n",
    "i = 1\n",
    "plt.figure(figsize=(10, 10))\n",
    "plt.imshow(batch['prerendered_feature_map'][i][0], origin='lower', cmap='binary', alpha=0.7)\n",
    "plt.imshow(batch['prerendered_feature_map'][i][6], origin='lower', cmap='binary', alpha=0.5)\n",
    "plt.imshow(batch['prerendered_feature_map'][i][13], origin='lower', cmap='binary', alpha=0.2)\n",
    "plt.imshow(batch['prerendered_feature_map'][i][16], origin='lower', cmap='binary', alpha=0.1)\n",
    "\n",
    "# Переведем ground truth траекторию агента в систему координат фичемапы\n",
    "transformed_gt = transform_2d_points(batch['ground_truth_trajectory'][i].numpy(), renderer.to_feature_map_tf)\n",
    "transformed_gt = np.round(transformed_gt - 0.5).astype(np.int32)\n",
    "\n",
    "ax = plt.gca()\n",
    "ax.add_collection(mc.LineCollection([transformed_gt], color='green'))\n",
    "\n",
    "prediction = predictions[i].numpy().astype(np.float32)\n",
    "transformed_prediction = transform_2d_points(prediction, renderer.to_feature_map_tf)\n",
    "ax.add_collection(mc.LineCollection([transformed_prediction], color='red'))"
   ]
  },
  {
   "cell_type": "markdown",
   "id": "09784a4b",
   "metadata": {},
   "source": [
    "## Мультимодальность"
   ]
  },
  {
   "cell_type": "code",
   "execution_count": null,
   "id": "d5e3c573",
   "metadata": {},
   "outputs": [],
   "source": []
  },
  {
   "cell_type": "markdown",
   "id": "d17eb708",
   "metadata": {},
   "source": [
    "## Задание"
   ]
  },
  {
   "cell_type": "markdown",
   "id": "ff230e9e",
   "metadata": {},
   "source": [
    "В качестве задания предлагается обучить нейросетку для предсказания траекторий и побить наш бейзлайн.\n",
    "Ссылки на данные:\n",
    "- [трейн](https://disk.yandex.ru/d/tuTwRSLL-KFqjg)\n",
    "- [валидация](https://disk.yandex.ru/d/3Lu6_6BgwkXlgw)\n",
    "- [тест](https://disk.yandex.ru/d/M_4ED0r19OnSrg)\n",
    "\n",
    "В своей реализации вы можете использовать векторные фичи для объекта, а так же растровые картинки.\n",
    "\n",
    "\n",
    "Критерии оценки (subject to change):\n",
    "- сделать нейросетку, которая бьёт бейзлайн (4 балла)\n",
    "- использовать картиночные фичи (4 балла)\n",
    "- научить сеть предсказывать более одной моды (2 балла)"
   ]
  },
  {
   "cell_type": "code",
   "execution_count": null,
   "id": "b51f361c",
   "metadata": {},
   "outputs": [],
   "source": [
    "# Для использования картиночных фичей можно использовать уже нарендеренные картинки (они есть в датасете).\n",
    "# Рендерить с нуля может быть довольно долго.\n",
    "# Пример использования готовых картинок в датасете:\n",
    "\n",
    "# dataset = MotionPredictionDataset(\n",
    "#     dataset_path='/Users/gerrok/test/',\n",
    "#     prerendered_dataset_path='/Users/gerrok/test/',  # Тут мы указываем путь, где искать готовые картинки\n",
    "#     feature_producers=[vectorizer],\n",
    "#     transform_ground_truth_to_agent_frame=True,\n",
    "# )"
   ]
  }
 ],
 "metadata": {
  "kernelspec": {
   "display_name": "Python 3 (ipykernel)",
   "language": "python",
   "name": "python3"
  },
  "language_info": {
   "codemirror_mode": {
    "name": "ipython",
    "version": 3
   },
   "file_extension": ".py",
   "mimetype": "text/x-python",
   "name": "python",
   "nbconvert_exporter": "python",
   "pygments_lexer": "ipython3",
   "version": "3.8.16"
  }
 },
 "nbformat": 4,
 "nbformat_minor": 5
}
